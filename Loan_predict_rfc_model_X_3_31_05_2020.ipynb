{
 "cells": [
  {
   "cell_type": "code",
   "execution_count": null,
   "metadata": {},
   "outputs": [],
   "source": [
    "import pandas as pd\n",
    "import numpy as np\n",
    "import seaborn as sns\n",
    "import os"
   ]
  },
  {
   "cell_type": "code",
   "execution_count": null,
   "metadata": {},
   "outputs": [],
   "source": [
    "data_file_path = '/Users/RajmohanV/Documents/Loan_Prediction/'\n",
    "\n",
    "test_data_file = 'test_lAUu6dG.csv'\n",
    "train_data_file = 'train_ctrUa4K.csv'\n",
    "df_test_data =pd.read_csv(os.path.join(data_file_path, test_data_file))\n",
    "df_train_data =pd.read_csv(os.path.join(data_file_path, train_data_file))\n",
    "display(df_test_data.head())\n",
    "display(df_test_data.shape)"
   ]
  },
  {
   "cell_type": "code",
   "execution_count": null,
   "metadata": {},
   "outputs": [],
   "source": [
    "display(df_train_data.shape)\n",
    "display(df_train_data.head())\n",
    "\n",
    "names1 = list(df_train_data.columns)\n",
    "names1"
   ]
  },
  {
   "cell_type": "code",
   "execution_count": null,
   "metadata": {},
   "outputs": [],
   "source": [
    "# create a copy of dataframe\n",
    "df_train_data_copy = df_train_data.copy()\n",
    "df_test_data_copy = df_test_data.copy()"
   ]
  },
  {
   "cell_type": "code",
   "execution_count": null,
   "metadata": {},
   "outputs": [],
   "source": [
    "def display_file_info(df,df_name):\n",
    "    col_name_list      = list(df.columns)\n",
    "    col_data_type      = [type(col) for col in df.iloc[0,:]]\n",
    "    null_count_list    = [df[col].isnull().sum() for col in col_name_list]\n",
    "    unique_count_list  = [df[col].nunique() for col in col_name_list]\n",
    "    memory_usage_list  = [df[col].memory_usage() for col in col_name_list]\n",
    "    total_memory_usage = sum(memory_usage_list)/1048576\n",
    "    df_info = pd.DataFrame({'column_name': col_name_list,\n",
    "                           'column_type': col_data_type,\n",
    "                           'null_count': null_count_list,\n",
    "                           'unique_count':unique_count_list})\n",
    "    print('-------- {} Summary --- {} x rows | {} x cols |approx {:.2f} MB:'\n",
    "                                      .format(df_name , df.shape[0], df.shape[1],total_memory_usage))\n",
    "    print('\\n', df_info.to_string())"
   ]
  },
  {
   "cell_type": "code",
   "execution_count": null,
   "metadata": {},
   "outputs": [],
   "source": [
    "display_file_info(df_train_data,'Train_Data')"
   ]
  },
  {
   "cell_type": "code",
   "execution_count": null,
   "metadata": {},
   "outputs": [],
   "source": [
    "# PreProcessing"
   ]
  },
  {
   "cell_type": "code",
   "execution_count": null,
   "metadata": {},
   "outputs": [],
   "source": [
    "### Train\n",
    "# PreProcessing on Gender Column (Converting String into Numbers)\n",
    "df_train_data.Gender = df_train_data.Gender.replace('Male',1)\n",
    "df_train_data.Gender = df_train_data.Gender.replace(\"Female\",2)\n",
    "# PreProcessing on Gender Column -- replace NaN\n",
    "df_train_data.Gender = df_train_data.Gender.replace(np.NaN,\"Male\")\n",
    "df_train_data.Gender = df_train_data.Gender.replace('Male',1)\n",
    "\n",
    "display(df_train_data.Gender.value_counts())\n",
    "display(df_train_data.Gender.isna().value_counts())\n",
    "### Test\n",
    "# PreProcessing on Gender Column (Converting String into Numbers)\n",
    "df_test_data.Gender = df_test_data.Gender.replace('Male',1)\n",
    "df_test_data.Gender = df_test_data.Gender.replace(\"Female\",2)\n",
    "# PreProcessing on Gender Column -- replace NaN\n",
    "df_test_data.Gender = df_test_data.Gender.replace(np.NaN,\"Male\")\n",
    "df_test_data.Gender = df_test_data.Gender.replace('Male',1)\n",
    "\n",
    "display(df_train_data.Gender.value_counts())\n",
    "display(df_train_data.Gender.isna().value_counts())"
   ]
  },
  {
   "cell_type": "code",
   "execution_count": null,
   "metadata": {},
   "outputs": [],
   "source": [
    "### Train\n",
    "# PreProcessing on Gender Column (Converting String into Numbers)\n",
    "df_train_data.Married = df_train_data.Married.replace('No',1)\n",
    "df_train_data.Married = df_train_data.Married.replace(\"Yes\",3)\n",
    "# PreProcessing on Gender Column -- replace NaN\n",
    "df_train_data.Married = df_train_data.Married.replace(np.NaN,\"No\")\n",
    "df_train_data.Married = df_train_data.Married.replace('No',1)\n",
    "\n",
    "display(df_train_data.Married.value_counts())\n",
    "display(df_train_data.Married.isna().value_counts())\n",
    "### Test\n",
    "# PreProcessing on Gender Column (Converting String into Numbers)\n",
    "df_test_data.Married = df_test_data.Married.replace('No',1)\n",
    "df_test_data.Married = df_test_data.Married.replace(\"Yes\",3)\n",
    "# PreProcessing on Gender Column -- replace NaN\n",
    "df_test_data.Married = df_test_data.Married.replace(np.NaN,\"No\")\n",
    "df_test_data.Married = df_test_data.Married.replace('No',1)\n",
    "\n",
    "display(df_test_data.Married.value_counts())\n",
    "display(df_test_data.Married.isna().value_counts())"
   ]
  },
  {
   "cell_type": "code",
   "execution_count": null,
   "metadata": {},
   "outputs": [],
   "source": [
    "### Train\n",
    "# PreProcessing on Education Column (Converting String into Numbers)\n",
    "df_train_data.Education = df_train_data.Education.replace('Not Graduate',1)\n",
    "df_train_data.Education = df_train_data.Education.replace(\"Graduate\",3)\n",
    "df_train_data.Education = df_train_data.Education.replace(\"Post Graduate\",5)\n",
    "# PreProcessing on Education Column -- replace NaN\n",
    "df_train_data.Education = df_train_data.Education.replace(np.NaN,\"Graduate\")\n",
    "df_train_data.Education = df_train_data.Education.replace('Graduate',3)\n",
    "\n",
    "display(df_train_data.Education.value_counts())\n",
    "display(df_train_data.Education.isna().value_counts())\n",
    "### Test\n",
    "# PreProcessing on Education Column (Converting String into Numbers)\n",
    "df_test_data.Education = df_test_data.Education.replace('Not Graduate',1)\n",
    "df_test_data.Education = df_test_data.Education.replace(\"Graduate\",3)\n",
    "df_test_data.Education = df_test_data.Education.replace(\"Post Graduate\",5)\n",
    "# PreProcessing on Education Column -- replace NaN\n",
    "df_test_data.Education = df_test_data.Education.replace(np.NaN,\"Graduate\")\n",
    "df_test_data.Education = df_test_data.Education.replace('Graduate',3)\n",
    "\n",
    "display(df_test_data.Education.value_counts())\n",
    "display(df_test_data.Education.isna().value_counts())"
   ]
  },
  {
   "cell_type": "code",
   "execution_count": null,
   "metadata": {},
   "outputs": [],
   "source": [
    "### Train\n",
    "# PreProcessing on Self_Employed Column (Converting String into Numbers)\n",
    "df_train_data.Self_Employed = df_train_data.Self_Employed.replace('No',1)\n",
    "df_train_data.Self_Employed = df_train_data.Self_Employed.replace(\"Yes\",3)\n",
    "# PreProcessing on Self_Employed Column -- replace NaN\n",
    "df_train_data.Self_Employed = df_train_data.Self_Employed.replace(np.NaN,\"Yes\")\n",
    "df_train_data.Self_Employed = df_train_data.Self_Employed.replace('Yes',3)\n",
    "\n",
    "display(df_train_data.Self_Employed.value_counts())\n",
    "display(df_train_data.Self_Employed.isna().value_counts())\n",
    "### Test\n",
    "# PreProcessing on Self_Employed Column (Converting String into Numbers)\n",
    "df_test_data.Self_Employed = df_test_data.Self_Employed.replace('No',1)\n",
    "df_test_data.Self_Employed = df_test_data.Self_Employed.replace(\"Yes\",3)\n",
    "# PreProcessing on Self_Employed Column -- replace NaN\n",
    "df_test_data.Self_Employed = df_test_data.Self_Employed.replace(np.NaN,\"Yes\")\n",
    "df_test_data.Self_Employed = df_test_data.Self_Employed.replace('Yes',3)\n",
    "\n",
    "display(df_test_data.Self_Employed.value_counts())\n",
    "display(df_test_data.Self_Employed.isna().value_counts())"
   ]
  },
  {
   "cell_type": "code",
   "execution_count": null,
   "metadata": {},
   "outputs": [],
   "source": [
    "### Train\n",
    "# PreProcessing on Property_Area Column (Converting String into Numbers)\n",
    "df_train_data.Property_Area = df_train_data.Property_Area.replace('Urban',5)\n",
    "df_train_data.Property_Area = df_train_data.Property_Area.replace(\"Rural\",1)\n",
    "df_train_data.Property_Area = df_train_data.Property_Area.replace('Semiurban',3)\n",
    "# PreProcessing on Property_Area Column -- replace NaN\n",
    "df_train_data.Property_Area = df_train_data.Property_Area.replace(np.NaN,\"Rural\")\n",
    "df_train_data.Property_Area = df_train_data.Property_Area.replace('Rural',1)\n",
    "\n",
    "display(df_train_data.Property_Area.value_counts())\n",
    "display(df_train_data.Property_Area.isna().value_counts())\n",
    "### Test\n",
    "# PreProcessing on Property_Area Column (Converting String into Numbers)\n",
    "df_test_data.Property_Area = df_test_data.Property_Area.replace('Urban',5)\n",
    "df_test_data.Property_Area = df_test_data.Property_Area.replace(\"Rural\",1)\n",
    "df_test_data.Property_Area = df_test_data.Property_Area.replace('Semiurban',3)\n",
    "# PreProcessing on Property_Area Column -- replace NaN\n",
    "df_test_data.Property_Area = df_test_data.Property_Area.replace(np.NaN,\"Rural\")\n",
    "df_test_data.Property_Area = df_test_data.Property_Area.replace('Rural',1)\n",
    "\n",
    "display(df_test_data.Property_Area.value_counts())\n",
    "display(df_test_data.Property_Area.isna().value_counts())"
   ]
  },
  {
   "cell_type": "code",
   "execution_count": null,
   "metadata": {},
   "outputs": [],
   "source": [
    "#pd.options.display.float_format = '{:,.1f}'.format\n",
    "\n",
    "\n",
    "#Dependent\n",
    "df_train_data.Dependents  = df_train_data.Dependents.replace('3+',3)\n",
    "df_train_data.Dependents  = df_train_data.Dependents.replace(np.NaN,1)\n",
    "df_test_data.Dependents   = df_test_data.Dependents.replace(np.NaN,1)\n",
    "df_test_data.Dependents   = df_test_data.Dependents.replace('3+',3)\n",
    "#Loan Amount\n",
    "df_train_data.LoanAmount  = df_train_data.LoanAmount.replace(np.NaN,df_train_data.LoanAmount.mean())\n",
    "df_test_data.LoanAmount   = df_test_data.LoanAmount.replace(np.NaN,df_test_data.LoanAmount.mean())\n",
    "# Loam amount term\n",
    "df_train_data.Loan_Amount_Term  = df_train_data.Loan_Amount_Term.replace(np.NaN,df_train_data.Loan_Amount_Term.mean())\n",
    "df_test_data.Loan_Amount_Term   = df_test_data.Loan_Amount_Term.replace(np.NaN,df_test_data.Loan_Amount_Term.mean())\n",
    "#Credit History\n",
    "df_train_data.Credit_History  = df_train_data.Credit_History.replace(np.NaN,df_train_data.Credit_History.mean())\n",
    "df_test_data.Credit_History   = df_test_data.Credit_History.replace(np.NaN,df_test_data.Credit_History.mean())\n"
   ]
  },
  {
   "cell_type": "code",
   "execution_count": 14,
   "metadata": {},
   "outputs": [
    {
     "name": "stdout",
     "output_type": "stream",
     "text": [
      "-------- Train data Summary --- 614 x rows | 13 x cols |approx 0.06 MB:\n",
      "\n",
      "           column_name              column_type  null_count  unique_count\n",
      "0             Loan_ID            <class 'str'>           0           614\n",
      "1              Gender  <class 'numpy.float64'>           0             2\n",
      "2             Married  <class 'numpy.float64'>           0             2\n",
      "3          Dependents            <class 'str'>           0             5\n",
      "4           Education    <class 'numpy.int64'>           0             2\n",
      "5       Self_Employed  <class 'numpy.float64'>           0             2\n",
      "6     ApplicantIncome    <class 'numpy.int64'>           0           505\n",
      "7   CoapplicantIncome  <class 'numpy.float64'>           0           287\n",
      "8          LoanAmount  <class 'numpy.float64'>           0           204\n",
      "9    Loan_Amount_Term  <class 'numpy.float64'>           0            11\n",
      "10     Credit_History  <class 'numpy.float64'>           0             3\n",
      "11      Property_Area    <class 'numpy.int64'>           0             3\n",
      "12        Loan_Status            <class 'str'>           0             2\n"
     ]
    }
   ],
   "source": [
    "display_file_info(df_train_data,'Train data')"
   ]
  },
  {
   "cell_type": "code",
   "execution_count": 15,
   "metadata": {},
   "outputs": [
    {
     "data": {
      "text/html": [
       "<div>\n",
       "<style scoped>\n",
       "    .dataframe tbody tr th:only-of-type {\n",
       "        vertical-align: middle;\n",
       "    }\n",
       "\n",
       "    .dataframe tbody tr th {\n",
       "        vertical-align: top;\n",
       "    }\n",
       "\n",
       "    .dataframe thead th {\n",
       "        text-align: right;\n",
       "    }\n",
       "</style>\n",
       "<table border=\"1\" class=\"dataframe\">\n",
       "  <thead>\n",
       "    <tr style=\"text-align: right;\">\n",
       "      <th></th>\n",
       "      <th>Loan_ID</th>\n",
       "      <th>Gender</th>\n",
       "      <th>Married</th>\n",
       "      <th>Dependents</th>\n",
       "      <th>Education</th>\n",
       "      <th>Self_Employed</th>\n",
       "      <th>ApplicantIncome</th>\n",
       "      <th>CoapplicantIncome</th>\n",
       "      <th>LoanAmount</th>\n",
       "      <th>Loan_Amount_Term</th>\n",
       "      <th>Credit_History</th>\n",
       "      <th>Property_Area</th>\n",
       "      <th>Loan_Status</th>\n",
       "    </tr>\n",
       "  </thead>\n",
       "  <tbody>\n",
       "    <tr>\n",
       "      <td>0</td>\n",
       "      <td>LP001002</td>\n",
       "      <td>1.0</td>\n",
       "      <td>1.0</td>\n",
       "      <td>0</td>\n",
       "      <td>3</td>\n",
       "      <td>1.0</td>\n",
       "      <td>5849</td>\n",
       "      <td>0.0</td>\n",
       "      <td>146.412162</td>\n",
       "      <td>360.0</td>\n",
       "      <td>1.0</td>\n",
       "      <td>5</td>\n",
       "      <td>Y</td>\n",
       "    </tr>\n",
       "    <tr>\n",
       "      <td>1</td>\n",
       "      <td>LP001003</td>\n",
       "      <td>1.0</td>\n",
       "      <td>3.0</td>\n",
       "      <td>1</td>\n",
       "      <td>3</td>\n",
       "      <td>1.0</td>\n",
       "      <td>4583</td>\n",
       "      <td>1508.0</td>\n",
       "      <td>128.000000</td>\n",
       "      <td>360.0</td>\n",
       "      <td>1.0</td>\n",
       "      <td>1</td>\n",
       "      <td>N</td>\n",
       "    </tr>\n",
       "  </tbody>\n",
       "</table>\n",
       "</div>"
      ],
      "text/plain": [
       "    Loan_ID  Gender  Married Dependents  Education  Self_Employed  \\\n",
       "0  LP001002     1.0      1.0          0          3            1.0   \n",
       "1  LP001003     1.0      3.0          1          3            1.0   \n",
       "\n",
       "   ApplicantIncome  CoapplicantIncome  LoanAmount  Loan_Amount_Term  \\\n",
       "0             5849                0.0  146.412162             360.0   \n",
       "1             4583             1508.0  128.000000             360.0   \n",
       "\n",
       "   Credit_History  Property_Area Loan_Status  \n",
       "0             1.0              5           Y  \n",
       "1             1.0              1           N  "
      ]
     },
     "execution_count": 15,
     "metadata": {},
     "output_type": "execute_result"
    }
   ],
   "source": [
    "df_train_data1 = df_train_data.copy()\n",
    "df_test_data1 = df_test_data.copy()\n",
    "df_train_data1.head(2)"
   ]
  },
  {
   "cell_type": "markdown",
   "metadata": {},
   "source": [
    "# Group By"
   ]
  },
  {
   "cell_type": "code",
   "execution_count": 16,
   "metadata": {},
   "outputs": [
    {
     "name": "stdout",
     "output_type": "stream",
     "text": [
      "ApplicantIncome\n",
      "150      1\n",
      "210      1\n",
      "416      1\n",
      "645      1\n",
      "674      1\n",
      "        ..\n",
      "39147    1\n",
      "39999    1\n",
      "51763    1\n",
      "63337    1\n",
      "81000    1\n",
      "Name: Loan_Status, Length: 505, dtype: int64\n",
      "CoapplicantIncome\n",
      "0.000000        273\n",
      "16.120001         1\n",
      "189.000000        1\n",
      "240.000000        1\n",
      "242.000000        1\n",
      "               ... \n",
      "10968.000000      1\n",
      "11300.000000      1\n",
      "20000.000000      2\n",
      "33837.000000      1\n",
      "41667.000000      1\n",
      "Name: Loan_Status, Length: 287, dtype: int64\n",
      "LoanAmount\n",
      "9.0      1\n",
      "17.0     1\n",
      "25.0     2\n",
      "26.0     1\n",
      "30.0     2\n",
      "        ..\n",
      "500.0    1\n",
      "570.0    1\n",
      "600.0    2\n",
      "650.0    1\n",
      "700.0    1\n",
      "Name: Loan_Status, Length: 204, dtype: int64\n",
      "Credit_History\n",
      "0.000000     89\n",
      "0.842199     50\n",
      "1.000000    475\n",
      "Name: Loan_Status, dtype: int64\n",
      "Self_Employed\n",
      "1.0    500\n",
      "3.0    114\n",
      "Name: Loan_Status, dtype: int64\n",
      "Education\n",
      "1    134\n",
      "3    480\n",
      "Name: Loan_Status, dtype: int64\n",
      "Dependents\n",
      "1     15\n",
      "3     51\n",
      "0    345\n",
      "1    102\n",
      "2    101\n",
      "Name: Loan_Status, dtype: int64\n",
      "Married\n",
      "1.0    216\n",
      "3.0    398\n",
      "Name: Loan_Status, dtype: int64\n",
      "Gender\n",
      "1.0    502\n",
      "2.0    112\n",
      "Name: Loan_Status, dtype: int64\n"
     ]
    }
   ],
   "source": [
    "print(df_train_data.groupby('ApplicantIncome')['Loan_Status'].count())\n",
    "print(df_train_data.groupby('CoapplicantIncome')['Loan_Status'].count())\n",
    "print(df_train_data.groupby('LoanAmount')['Loan_Status'].count())\n",
    "print(df_train_data.groupby('Credit_History')['Loan_Status'].count())\n",
    "print(df_train_data.groupby('Self_Employed')['Loan_Status'].count())\n",
    "print(df_train_data.groupby('Education')['Loan_Status'].count())\n",
    "print(df_train_data.groupby('Dependents')['Loan_Status'].count())\n",
    "print(df_train_data.groupby('Married')['Loan_Status'].count())\n",
    "print(df_train_data.groupby('Gender')['Loan_Status'].count())"
   ]
  },
  {
   "cell_type": "code",
   "execution_count": 17,
   "metadata": {},
   "outputs": [
    {
     "data": {
      "text/html": [
       "<div>\n",
       "<style scoped>\n",
       "    .dataframe tbody tr th:only-of-type {\n",
       "        vertical-align: middle;\n",
       "    }\n",
       "\n",
       "    .dataframe tbody tr th {\n",
       "        vertical-align: top;\n",
       "    }\n",
       "\n",
       "    .dataframe thead th {\n",
       "        text-align: right;\n",
       "    }\n",
       "</style>\n",
       "<table border=\"1\" class=\"dataframe\">\n",
       "  <thead>\n",
       "    <tr style=\"text-align: right;\">\n",
       "      <th></th>\n",
       "      <th>Loan_ID</th>\n",
       "      <th>Gender</th>\n",
       "      <th>Married</th>\n",
       "      <th>Dependents</th>\n",
       "      <th>Education</th>\n",
       "      <th>Self_Employed</th>\n",
       "      <th>ApplicantIncome</th>\n",
       "      <th>CoapplicantIncome</th>\n",
       "      <th>LoanAmount</th>\n",
       "      <th>Loan_Amount_Term</th>\n",
       "      <th>Credit_History</th>\n",
       "      <th>Property_Area</th>\n",
       "    </tr>\n",
       "  </thead>\n",
       "  <tbody>\n",
       "    <tr>\n",
       "      <td>0</td>\n",
       "      <td>LP001002</td>\n",
       "      <td>1.0</td>\n",
       "      <td>1.0</td>\n",
       "      <td>0</td>\n",
       "      <td>3</td>\n",
       "      <td>1.0</td>\n",
       "      <td>5849</td>\n",
       "      <td>0.0</td>\n",
       "      <td>146.412162</td>\n",
       "      <td>360.0</td>\n",
       "      <td>1.0</td>\n",
       "      <td>5</td>\n",
       "    </tr>\n",
       "    <tr>\n",
       "      <td>1</td>\n",
       "      <td>LP001003</td>\n",
       "      <td>1.0</td>\n",
       "      <td>3.0</td>\n",
       "      <td>1</td>\n",
       "      <td>3</td>\n",
       "      <td>1.0</td>\n",
       "      <td>4583</td>\n",
       "      <td>1508.0</td>\n",
       "      <td>128.000000</td>\n",
       "      <td>360.0</td>\n",
       "      <td>1.0</td>\n",
       "      <td>1</td>\n",
       "    </tr>\n",
       "    <tr>\n",
       "      <td>2</td>\n",
       "      <td>LP001005</td>\n",
       "      <td>1.0</td>\n",
       "      <td>3.0</td>\n",
       "      <td>0</td>\n",
       "      <td>3</td>\n",
       "      <td>3.0</td>\n",
       "      <td>3000</td>\n",
       "      <td>0.0</td>\n",
       "      <td>66.000000</td>\n",
       "      <td>360.0</td>\n",
       "      <td>1.0</td>\n",
       "      <td>5</td>\n",
       "    </tr>\n",
       "    <tr>\n",
       "      <td>3</td>\n",
       "      <td>LP001006</td>\n",
       "      <td>1.0</td>\n",
       "      <td>3.0</td>\n",
       "      <td>0</td>\n",
       "      <td>1</td>\n",
       "      <td>1.0</td>\n",
       "      <td>2583</td>\n",
       "      <td>2358.0</td>\n",
       "      <td>120.000000</td>\n",
       "      <td>360.0</td>\n",
       "      <td>1.0</td>\n",
       "      <td>5</td>\n",
       "    </tr>\n",
       "    <tr>\n",
       "      <td>4</td>\n",
       "      <td>LP001008</td>\n",
       "      <td>1.0</td>\n",
       "      <td>1.0</td>\n",
       "      <td>0</td>\n",
       "      <td>3</td>\n",
       "      <td>1.0</td>\n",
       "      <td>6000</td>\n",
       "      <td>0.0</td>\n",
       "      <td>141.000000</td>\n",
       "      <td>360.0</td>\n",
       "      <td>1.0</td>\n",
       "      <td>5</td>\n",
       "    </tr>\n",
       "    <tr>\n",
       "      <td>...</td>\n",
       "      <td>...</td>\n",
       "      <td>...</td>\n",
       "      <td>...</td>\n",
       "      <td>...</td>\n",
       "      <td>...</td>\n",
       "      <td>...</td>\n",
       "      <td>...</td>\n",
       "      <td>...</td>\n",
       "      <td>...</td>\n",
       "      <td>...</td>\n",
       "      <td>...</td>\n",
       "      <td>...</td>\n",
       "    </tr>\n",
       "    <tr>\n",
       "      <td>609</td>\n",
       "      <td>LP002978</td>\n",
       "      <td>2.0</td>\n",
       "      <td>1.0</td>\n",
       "      <td>0</td>\n",
       "      <td>3</td>\n",
       "      <td>1.0</td>\n",
       "      <td>2900</td>\n",
       "      <td>0.0</td>\n",
       "      <td>71.000000</td>\n",
       "      <td>360.0</td>\n",
       "      <td>1.0</td>\n",
       "      <td>1</td>\n",
       "    </tr>\n",
       "    <tr>\n",
       "      <td>610</td>\n",
       "      <td>LP002979</td>\n",
       "      <td>1.0</td>\n",
       "      <td>3.0</td>\n",
       "      <td>3</td>\n",
       "      <td>3</td>\n",
       "      <td>1.0</td>\n",
       "      <td>4106</td>\n",
       "      <td>0.0</td>\n",
       "      <td>40.000000</td>\n",
       "      <td>180.0</td>\n",
       "      <td>1.0</td>\n",
       "      <td>1</td>\n",
       "    </tr>\n",
       "    <tr>\n",
       "      <td>611</td>\n",
       "      <td>LP002983</td>\n",
       "      <td>1.0</td>\n",
       "      <td>3.0</td>\n",
       "      <td>1</td>\n",
       "      <td>3</td>\n",
       "      <td>1.0</td>\n",
       "      <td>8072</td>\n",
       "      <td>240.0</td>\n",
       "      <td>253.000000</td>\n",
       "      <td>360.0</td>\n",
       "      <td>1.0</td>\n",
       "      <td>5</td>\n",
       "    </tr>\n",
       "    <tr>\n",
       "      <td>612</td>\n",
       "      <td>LP002984</td>\n",
       "      <td>1.0</td>\n",
       "      <td>3.0</td>\n",
       "      <td>2</td>\n",
       "      <td>3</td>\n",
       "      <td>1.0</td>\n",
       "      <td>7583</td>\n",
       "      <td>0.0</td>\n",
       "      <td>187.000000</td>\n",
       "      <td>360.0</td>\n",
       "      <td>1.0</td>\n",
       "      <td>5</td>\n",
       "    </tr>\n",
       "    <tr>\n",
       "      <td>613</td>\n",
       "      <td>LP002990</td>\n",
       "      <td>2.0</td>\n",
       "      <td>1.0</td>\n",
       "      <td>0</td>\n",
       "      <td>3</td>\n",
       "      <td>3.0</td>\n",
       "      <td>4583</td>\n",
       "      <td>0.0</td>\n",
       "      <td>133.000000</td>\n",
       "      <td>360.0</td>\n",
       "      <td>0.0</td>\n",
       "      <td>3</td>\n",
       "    </tr>\n",
       "  </tbody>\n",
       "</table>\n",
       "<p>614 rows × 12 columns</p>\n",
       "</div>"
      ],
      "text/plain": [
       "      Loan_ID  Gender  Married Dependents  Education  Self_Employed  \\\n",
       "0    LP001002     1.0      1.0          0          3            1.0   \n",
       "1    LP001003     1.0      3.0          1          3            1.0   \n",
       "2    LP001005     1.0      3.0          0          3            3.0   \n",
       "3    LP001006     1.0      3.0          0          1            1.0   \n",
       "4    LP001008     1.0      1.0          0          3            1.0   \n",
       "..        ...     ...      ...        ...        ...            ...   \n",
       "609  LP002978     2.0      1.0          0          3            1.0   \n",
       "610  LP002979     1.0      3.0          3          3            1.0   \n",
       "611  LP002983     1.0      3.0          1          3            1.0   \n",
       "612  LP002984     1.0      3.0          2          3            1.0   \n",
       "613  LP002990     2.0      1.0          0          3            3.0   \n",
       "\n",
       "     ApplicantIncome  CoapplicantIncome  LoanAmount  Loan_Amount_Term  \\\n",
       "0               5849                0.0  146.412162             360.0   \n",
       "1               4583             1508.0  128.000000             360.0   \n",
       "2               3000                0.0   66.000000             360.0   \n",
       "3               2583             2358.0  120.000000             360.0   \n",
       "4               6000                0.0  141.000000             360.0   \n",
       "..               ...                ...         ...               ...   \n",
       "609             2900                0.0   71.000000             360.0   \n",
       "610             4106                0.0   40.000000             180.0   \n",
       "611             8072              240.0  253.000000             360.0   \n",
       "612             7583                0.0  187.000000             360.0   \n",
       "613             4583                0.0  133.000000             360.0   \n",
       "\n",
       "     Credit_History  Property_Area  \n",
       "0               1.0              5  \n",
       "1               1.0              1  \n",
       "2               1.0              5  \n",
       "3               1.0              5  \n",
       "4               1.0              5  \n",
       "..              ...            ...  \n",
       "609             1.0              1  \n",
       "610             1.0              1  \n",
       "611             1.0              5  \n",
       "612             1.0              5  \n",
       "613             0.0              3  \n",
       "\n",
       "[614 rows x 12 columns]"
      ]
     },
     "execution_count": 17,
     "metadata": {},
     "output_type": "execute_result"
    }
   ],
   "source": [
    "df_train_data = df_train_data.drop(columns=['Loan_Status'],axis=1)\n",
    "df_train_data"
   ]
  },
  {
   "cell_type": "code",
   "execution_count": 18,
   "metadata": {},
   "outputs": [
    {
     "data": {
      "text/plain": [
       "Y    422\n",
       "N    192\n",
       "Name: Loan_Status, dtype: int64"
      ]
     },
     "execution_count": 18,
     "metadata": {},
     "output_type": "execute_result"
    }
   ],
   "source": [
    "target_data_raw = df_train_data1['Loan_Status']\n",
    "target_data_raw.value_counts()"
   ]
  },
  {
   "cell_type": "code",
   "execution_count": 19,
   "metadata": {},
   "outputs": [
    {
     "data": {
      "text/plain": [
       "1    422\n",
       "0    192\n",
       "dtype: int64"
      ]
     },
     "execution_count": 19,
     "metadata": {},
     "output_type": "execute_result"
    }
   ],
   "source": [
    "target_data = target_data_raw\n",
    "target_data = target_data_raw.astype('category')\n",
    "target_data = target_data.cat.codes\n",
    "target_data.value_counts()"
   ]
  },
  {
   "cell_type": "code",
   "execution_count": 20,
   "metadata": {},
   "outputs": [
    {
     "data": {
      "text/plain": [
       "<matplotlib.axes._subplots.AxesSubplot at 0x241a0b39348>"
      ]
     },
     "execution_count": 20,
     "metadata": {},
     "output_type": "execute_result"
    },
    {
     "data": {
      "image/png": "[encoded data removed]",
      "text/plain": [
       "<Figure size 864x648 with 2 Axes>"
      ]
     },
     "metadata": {},
     "output_type": "display_data"
    }
   ],
   "source": [
    "import seaborn as sns\n",
    "%matplotlib inline\n",
    "sns.set(rc={'figure.figsize': (12, 9)})\n",
    "sns.heatmap(df_train_data.corr(), annot=True, cmap='coolwarm', vmin=-1, vmax=1)"
   ]
  },
  {
   "cell_type": "code",
   "execution_count": 21,
   "metadata": {},
   "outputs": [
    {
     "data": {
      "text/html": [
       "<div>\n",
       "<style scoped>\n",
       "    .dataframe tbody tr th:only-of-type {\n",
       "        vertical-align: middle;\n",
       "    }\n",
       "\n",
       "    .dataframe tbody tr th {\n",
       "        vertical-align: top;\n",
       "    }\n",
       "\n",
       "    .dataframe thead th {\n",
       "        text-align: right;\n",
       "    }\n",
       "</style>\n",
       "<table border=\"1\" class=\"dataframe\">\n",
       "  <thead>\n",
       "    <tr style=\"text-align: right;\">\n",
       "      <th></th>\n",
       "      <th>Loan_ID</th>\n",
       "      <th>Gender</th>\n",
       "      <th>Married</th>\n",
       "      <th>Dependents</th>\n",
       "      <th>Education</th>\n",
       "      <th>Self_Employed</th>\n",
       "      <th>ApplicantIncome</th>\n",
       "      <th>CoapplicantIncome</th>\n",
       "      <th>LoanAmount</th>\n",
       "      <th>Loan_Amount_Term</th>\n",
       "      <th>Credit_History</th>\n",
       "      <th>Property_Area</th>\n",
       "    </tr>\n",
       "  </thead>\n",
       "  <tbody>\n",
       "    <tr>\n",
       "      <td>0</td>\n",
       "      <td>LP001002</td>\n",
       "      <td>1.0</td>\n",
       "      <td>1.0</td>\n",
       "      <td>0</td>\n",
       "      <td>3</td>\n",
       "      <td>1.0</td>\n",
       "      <td>5849</td>\n",
       "      <td>0.0</td>\n",
       "      <td>146.412162</td>\n",
       "      <td>360.0</td>\n",
       "      <td>1.0</td>\n",
       "      <td>5</td>\n",
       "    </tr>\n",
       "    <tr>\n",
       "      <td>1</td>\n",
       "      <td>LP001003</td>\n",
       "      <td>1.0</td>\n",
       "      <td>3.0</td>\n",
       "      <td>1</td>\n",
       "      <td>3</td>\n",
       "      <td>1.0</td>\n",
       "      <td>4583</td>\n",
       "      <td>1508.0</td>\n",
       "      <td>128.000000</td>\n",
       "      <td>360.0</td>\n",
       "      <td>1.0</td>\n",
       "      <td>1</td>\n",
       "    </tr>\n",
       "  </tbody>\n",
       "</table>\n",
       "</div>"
      ],
      "text/plain": [
       "    Loan_ID  Gender  Married Dependents  Education  Self_Employed  \\\n",
       "0  LP001002     1.0      1.0          0          3            1.0   \n",
       "1  LP001003     1.0      3.0          1          3            1.0   \n",
       "\n",
       "   ApplicantIncome  CoapplicantIncome  LoanAmount  Loan_Amount_Term  \\\n",
       "0             5849                0.0  146.412162             360.0   \n",
       "1             4583             1508.0  128.000000             360.0   \n",
       "\n",
       "   Credit_History  Property_Area  \n",
       "0             1.0              5  \n",
       "1             1.0              1  "
      ]
     },
     "execution_count": 21,
     "metadata": {},
     "output_type": "execute_result"
    }
   ],
   "source": [
    "df_train_data.head(2)"
   ]
  },
  {
   "cell_type": "code",
   "execution_count": 22,
   "metadata": {},
   "outputs": [
    {
     "data": {
      "text/html": [
       "<div>\n",
       "<style scoped>\n",
       "    .dataframe tbody tr th:only-of-type {\n",
       "        vertical-align: middle;\n",
       "    }\n",
       "\n",
       "    .dataframe tbody tr th {\n",
       "        vertical-align: top;\n",
       "    }\n",
       "\n",
       "    .dataframe thead th {\n",
       "        text-align: right;\n",
       "    }\n",
       "</style>\n",
       "<table border=\"1\" class=\"dataframe\">\n",
       "  <thead>\n",
       "    <tr style=\"text-align: right;\">\n",
       "      <th></th>\n",
       "      <th>Gender</th>\n",
       "      <th>Married</th>\n",
       "      <th>Dependents</th>\n",
       "      <th>Education</th>\n",
       "      <th>Self_Employed</th>\n",
       "      <th>ApplicantIncome</th>\n",
       "      <th>CoapplicantIncome</th>\n",
       "      <th>LoanAmount</th>\n",
       "      <th>Loan_Amount_Term</th>\n",
       "      <th>Credit_History</th>\n",
       "      <th>Property_Area</th>\n",
       "    </tr>\n",
       "  </thead>\n",
       "  <tbody>\n",
       "    <tr>\n",
       "      <td>0</td>\n",
       "      <td>1.0</td>\n",
       "      <td>1.0</td>\n",
       "      <td>0</td>\n",
       "      <td>3</td>\n",
       "      <td>1.0</td>\n",
       "      <td>5849</td>\n",
       "      <td>0.0</td>\n",
       "      <td>146.412162</td>\n",
       "      <td>360.0</td>\n",
       "      <td>1.0</td>\n",
       "      <td>5</td>\n",
       "    </tr>\n",
       "    <tr>\n",
       "      <td>1</td>\n",
       "      <td>1.0</td>\n",
       "      <td>3.0</td>\n",
       "      <td>1</td>\n",
       "      <td>3</td>\n",
       "      <td>1.0</td>\n",
       "      <td>4583</td>\n",
       "      <td>1508.0</td>\n",
       "      <td>128.000000</td>\n",
       "      <td>360.0</td>\n",
       "      <td>1.0</td>\n",
       "      <td>1</td>\n",
       "    </tr>\n",
       "    <tr>\n",
       "      <td>2</td>\n",
       "      <td>1.0</td>\n",
       "      <td>3.0</td>\n",
       "      <td>0</td>\n",
       "      <td>3</td>\n",
       "      <td>3.0</td>\n",
       "      <td>3000</td>\n",
       "      <td>0.0</td>\n",
       "      <td>66.000000</td>\n",
       "      <td>360.0</td>\n",
       "      <td>1.0</td>\n",
       "      <td>5</td>\n",
       "    </tr>\n",
       "    <tr>\n",
       "      <td>3</td>\n",
       "      <td>1.0</td>\n",
       "      <td>3.0</td>\n",
       "      <td>0</td>\n",
       "      <td>1</td>\n",
       "      <td>1.0</td>\n",
       "      <td>2583</td>\n",
       "      <td>2358.0</td>\n",
       "      <td>120.000000</td>\n",
       "      <td>360.0</td>\n",
       "      <td>1.0</td>\n",
       "      <td>5</td>\n",
       "    </tr>\n",
       "    <tr>\n",
       "      <td>4</td>\n",
       "      <td>1.0</td>\n",
       "      <td>1.0</td>\n",
       "      <td>0</td>\n",
       "      <td>3</td>\n",
       "      <td>1.0</td>\n",
       "      <td>6000</td>\n",
       "      <td>0.0</td>\n",
       "      <td>141.000000</td>\n",
       "      <td>360.0</td>\n",
       "      <td>1.0</td>\n",
       "      <td>5</td>\n",
       "    </tr>\n",
       "    <tr>\n",
       "      <td>...</td>\n",
       "      <td>...</td>\n",
       "      <td>...</td>\n",
       "      <td>...</td>\n",
       "      <td>...</td>\n",
       "      <td>...</td>\n",
       "      <td>...</td>\n",
       "      <td>...</td>\n",
       "      <td>...</td>\n",
       "      <td>...</td>\n",
       "      <td>...</td>\n",
       "      <td>...</td>\n",
       "    </tr>\n",
       "    <tr>\n",
       "      <td>609</td>\n",
       "      <td>2.0</td>\n",
       "      <td>1.0</td>\n",
       "      <td>0</td>\n",
       "      <td>3</td>\n",
       "      <td>1.0</td>\n",
       "      <td>2900</td>\n",
       "      <td>0.0</td>\n",
       "      <td>71.000000</td>\n",
       "      <td>360.0</td>\n",
       "      <td>1.0</td>\n",
       "      <td>1</td>\n",
       "    </tr>\n",
       "    <tr>\n",
       "      <td>610</td>\n",
       "      <td>1.0</td>\n",
       "      <td>3.0</td>\n",
       "      <td>3</td>\n",
       "      <td>3</td>\n",
       "      <td>1.0</td>\n",
       "      <td>4106</td>\n",
       "      <td>0.0</td>\n",
       "      <td>40.000000</td>\n",
       "      <td>180.0</td>\n",
       "      <td>1.0</td>\n",
       "      <td>1</td>\n",
       "    </tr>\n",
       "    <tr>\n",
       "      <td>611</td>\n",
       "      <td>1.0</td>\n",
       "      <td>3.0</td>\n",
       "      <td>1</td>\n",
       "      <td>3</td>\n",
       "      <td>1.0</td>\n",
       "      <td>8072</td>\n",
       "      <td>240.0</td>\n",
       "      <td>253.000000</td>\n",
       "      <td>360.0</td>\n",
       "      <td>1.0</td>\n",
       "      <td>5</td>\n",
       "    </tr>\n",
       "    <tr>\n",
       "      <td>612</td>\n",
       "      <td>1.0</td>\n",
       "      <td>3.0</td>\n",
       "      <td>2</td>\n",
       "      <td>3</td>\n",
       "      <td>1.0</td>\n",
       "      <td>7583</td>\n",
       "      <td>0.0</td>\n",
       "      <td>187.000000</td>\n",
       "      <td>360.0</td>\n",
       "      <td>1.0</td>\n",
       "      <td>5</td>\n",
       "    </tr>\n",
       "    <tr>\n",
       "      <td>613</td>\n",
       "      <td>2.0</td>\n",
       "      <td>1.0</td>\n",
       "      <td>0</td>\n",
       "      <td>3</td>\n",
       "      <td>3.0</td>\n",
       "      <td>4583</td>\n",
       "      <td>0.0</td>\n",
       "      <td>133.000000</td>\n",
       "      <td>360.0</td>\n",
       "      <td>0.0</td>\n",
       "      <td>3</td>\n",
       "    </tr>\n",
       "  </tbody>\n",
       "</table>\n",
       "<p>614 rows × 11 columns</p>\n",
       "</div>"
      ],
      "text/plain": [
       "     Gender  Married Dependents  Education  Self_Employed  ApplicantIncome  \\\n",
       "0       1.0      1.0          0          3            1.0             5849   \n",
       "1       1.0      3.0          1          3            1.0             4583   \n",
       "2       1.0      3.0          0          3            3.0             3000   \n",
       "3       1.0      3.0          0          1            1.0             2583   \n",
       "4       1.0      1.0          0          3            1.0             6000   \n",
       "..      ...      ...        ...        ...            ...              ...   \n",
       "609     2.0      1.0          0          3            1.0             2900   \n",
       "610     1.0      3.0          3          3            1.0             4106   \n",
       "611     1.0      3.0          1          3            1.0             8072   \n",
       "612     1.0      3.0          2          3            1.0             7583   \n",
       "613     2.0      1.0          0          3            3.0             4583   \n",
       "\n",
       "     CoapplicantIncome  LoanAmount  Loan_Amount_Term  Credit_History  \\\n",
       "0                  0.0  146.412162             360.0             1.0   \n",
       "1               1508.0  128.000000             360.0             1.0   \n",
       "2                  0.0   66.000000             360.0             1.0   \n",
       "3               2358.0  120.000000             360.0             1.0   \n",
       "4                  0.0  141.000000             360.0             1.0   \n",
       "..                 ...         ...               ...             ...   \n",
       "609                0.0   71.000000             360.0             1.0   \n",
       "610                0.0   40.000000             180.0             1.0   \n",
       "611              240.0  253.000000             360.0             1.0   \n",
       "612                0.0  187.000000             360.0             1.0   \n",
       "613                0.0  133.000000             360.0             0.0   \n",
       "\n",
       "     Property_Area  \n",
       "0                5  \n",
       "1                1  \n",
       "2                5  \n",
       "3                5  \n",
       "4                5  \n",
       "..             ...  \n",
       "609              1  \n",
       "610              1  \n",
       "611              5  \n",
       "612              5  \n",
       "613              3  \n",
       "\n",
       "[614 rows x 11 columns]"
      ]
     },
     "execution_count": 22,
     "metadata": {},
     "output_type": "execute_result"
    }
   ],
   "source": [
    "df_train_data = df_train_data.drop(['Loan_ID'],axis=1)\n",
    "df_test_data = df_test_data.drop(['Loan_ID'],axis=1)\n",
    "df_train_data"
   ]
  },
  {
   "cell_type": "code",
   "execution_count": 23,
   "metadata": {},
   "outputs": [
    {
     "data": {
      "text/plain": [
       "array([[0.00017059, 0.00017059, 0.        , ..., 0.06141353, 0.00017059,\n",
       "        0.00085297],\n",
       "       [0.00020662, 0.00061986, 0.00020662, ..., 0.07438277, 0.00020662,\n",
       "        0.00020662],\n",
       "       [0.00033088, 0.00099264, 0.        , ..., 0.11911645, 0.00033088,\n",
       "        0.0016544 ],\n",
       "       ...,\n",
       "       [0.00012365, 0.00037094, 0.00012365, ..., 0.04451287, 0.00012365,\n",
       "        0.00061823],\n",
       "       [0.00013169, 0.00039506, 0.00026337, ..., 0.0474068 , 0.00013169,\n",
       "        0.00065843],\n",
       "       [0.00043487, 0.00021744, 0.        , ..., 0.07827713, 0.        ,\n",
       "        0.00065231]])"
      ]
     },
     "execution_count": 23,
     "metadata": {},
     "output_type": "execute_result"
    }
   ],
   "source": [
    "from sklearn.preprocessing import Normalizer\n",
    "normm = Normalizer()\n",
    "normm_train_data = normm.fit_transform(df_train_data)\n",
    "normm_test_data = normm.fit_transform(df_test_data)\n",
    "normm_train_data"
   ]
  },
  {
   "cell_type": "code",
   "execution_count": 24,
   "metadata": {},
   "outputs": [],
   "source": [
    "from sklearn.model_selection import train_test_split\n",
    "from sklearn.model_selection import GridSearchCV as GSCV\n",
    "from sklearn.model_selection import cross_validate as CV\n",
    "from sklearn.ensemble import RandomForestClassifier as RFC\n",
    "from sklearn.tree import DecisionTreeClassifier as DTC\n",
    "from sklearn.naive_bayes import GaussianNB as NBC\n",
    "from sklearn.linear_model import LogisticRegression as LR\n",
    "from sklearn.linear_model import SGDClassifier as SDC\n",
    "from sklearn.neighbors import KNeighborsClassifier as KNN\n",
    "from sklearn.metrics import accuracy_score, balanced_accuracy_score, precision_score, recall_score, f1_score, roc_auc_score"
   ]
  },
  {
   "cell_type": "code",
   "execution_count": 25,
   "metadata": {},
   "outputs": [
    {
     "name": "stdout",
     "output_type": "stream",
     "text": [
      "(460, 11) (460,)\n",
      "(154, 11) (154,)\n"
     ]
    }
   ],
   "source": [
    "X_train, X_test, y_train, y_test = train_test_split(normm_train_data, target_data, random_state=0, stratify=target_data)\n",
    "\n",
    "print(X_train.shape, y_train.shape)\n",
    "print(X_test.shape, y_test.shape)"
   ]
  },
  {
   "cell_type": "code",
   "execution_count": 26,
   "metadata": {},
   "outputs": [],
   "source": [
    "model_names = []\n",
    "feature_counts = []\n",
    "model_acc_scores = []\n",
    "model_bac_scores = []\n",
    "model_prc_scores = []\n",
    "model_rec_scores = []\n",
    "model_f1_scores = []"
   ]
  },
  {
   "cell_type": "code",
   "execution_count": 27,
   "metadata": {},
   "outputs": [],
   "source": [
    "cv_scoring = ['balanced_accuracy','f1', 'roc_auc', 'recall']"
   ]
  },
  {
   "cell_type": "code",
   "execution_count": 28,
   "metadata": {},
   "outputs": [
    {
     "name": "stderr",
     "output_type": "stream",
     "text": [
      "C:\\Users\\RajmohanV\\Anaconda3\\lib\\site-packages\\sklearn\\ensemble\\forest.py:245: FutureWarning: The default value of n_estimators will change from 10 in version 0.20 to 100 in 0.22.\n",
      "  \"10 in version 0.20 to 100 in 0.22.\", FutureWarning)\n",
      "C:\\Users\\RajmohanV\\Anaconda3\\lib\\site-packages\\sklearn\\ensemble\\forest.py:245: FutureWarning: The default value of n_estimators will change from 10 in version 0.20 to 100 in 0.22.\n",
      "  \"10 in version 0.20 to 100 in 0.22.\", FutureWarning)\n"
     ]
    }
   ],
   "source": [
    "rfc_model_1 = RFC(random_state=0)\n",
    "rfc_model_1.fit(X_train, y_train)\n",
    "rfc_model_1_y_hat = rfc_model_1.predict(X_test)\n",
    "model_names.append('rfc_model_1')\n",
    "feature_counts.append(X_train.shape[1])\n",
    "model_acc_scores.append(accuracy_score(y_test, rfc_model_1_y_hat))\n",
    "model_bac_scores.append(balanced_accuracy_score(y_test, rfc_model_1_y_hat))\n",
    "model_prc_scores.append(precision_score(y_test, rfc_model_1_y_hat, average='micro'))\n",
    "model_rec_scores.append(recall_score(y_test, rfc_model_1_y_hat, average='micro'))\n",
    "model_f1_scores.append(f1_score(y_test, rfc_model_1_y_hat, average='micro'))\n",
    "\n",
    "rfc_model_2 = RFC(random_state=0, class_weight='balanced')\n",
    "rfc_model_2.fit(X_train, y_train)\n",
    "rfc_model_2_y_hat = rfc_model_2.predict(X_test)\n",
    "model_names.append('rfc_model_2')\n",
    "feature_counts.append(X_train.shape[1])\n",
    "model_acc_scores.append(accuracy_score(y_test, rfc_model_2_y_hat))\n",
    "model_bac_scores.append(balanced_accuracy_score(y_test, rfc_model_2_y_hat))\n",
    "model_prc_scores.append(precision_score(y_test, rfc_model_2_y_hat, average='micro'))\n",
    "model_rec_scores.append(recall_score(y_test, rfc_model_2_y_hat, average='micro'))\n",
    "model_f1_scores.append(f1_score(y_test, rfc_model_2_y_hat, average='micro'))"
   ]
  },
  {
   "cell_type": "code",
   "execution_count": 29,
   "metadata": {},
   "outputs": [
    {
     "data": {
      "text/html": [
       "<div>\n",
       "<style scoped>\n",
       "    .dataframe tbody tr th:only-of-type {\n",
       "        vertical-align: middle;\n",
       "    }\n",
       "\n",
       "    .dataframe tbody tr th {\n",
       "        vertical-align: top;\n",
       "    }\n",
       "\n",
       "    .dataframe thead th {\n",
       "        text-align: right;\n",
       "    }\n",
       "</style>\n",
       "<table border=\"1\" class=\"dataframe\">\n",
       "  <thead>\n",
       "    <tr style=\"text-align: right;\">\n",
       "      <th></th>\n",
       "      <th>model</th>\n",
       "      <th>feature_count</th>\n",
       "      <th>acc</th>\n",
       "      <th>bac</th>\n",
       "      <th>prc</th>\n",
       "      <th>rec</th>\n",
       "      <th>f1</th>\n",
       "    </tr>\n",
       "  </thead>\n",
       "  <tbody>\n",
       "    <tr>\n",
       "      <td>0</td>\n",
       "      <td>rfc_model_1</td>\n",
       "      <td>11</td>\n",
       "      <td>0.798701</td>\n",
       "      <td>0.739780</td>\n",
       "      <td>0.798701</td>\n",
       "      <td>0.798701</td>\n",
       "      <td>0.798701</td>\n",
       "    </tr>\n",
       "    <tr>\n",
       "      <td>1</td>\n",
       "      <td>rfc_model_2</td>\n",
       "      <td>11</td>\n",
       "      <td>0.746753</td>\n",
       "      <td>0.684945</td>\n",
       "      <td>0.746753</td>\n",
       "      <td>0.746753</td>\n",
       "      <td>0.746753</td>\n",
       "    </tr>\n",
       "  </tbody>\n",
       "</table>\n",
       "</div>"
      ],
      "text/plain": [
       "         model  feature_count       acc       bac       prc       rec  \\\n",
       "0  rfc_model_1             11  0.798701  0.739780  0.798701  0.798701   \n",
       "1  rfc_model_2             11  0.746753  0.684945  0.746753  0.746753   \n",
       "\n",
       "         f1  \n",
       "0  0.798701  \n",
       "1  0.746753  "
      ]
     },
     "execution_count": 29,
     "metadata": {},
     "output_type": "execute_result"
    }
   ],
   "source": [
    "df_model_eval = pd.DataFrame({'model': model_names, 'feature_count': feature_counts, \n",
    "                                    'acc': model_acc_scores, 'bac': model_bac_scores, \n",
    "                                    'prc': model_prc_scores, 'rec': model_rec_scores, \n",
    "                                    'f1': model_f1_scores})\n",
    "df_model_eval"
   ]
  },
  {
   "cell_type": "markdown",
   "metadata": {},
   "source": [
    "# tune the models using gridsearch cv"
   ]
  },
  {
   "cell_type": "code",
   "execution_count": 30,
   "metadata": {},
   "outputs": [],
   "source": [
    "model_names = []\n",
    "feature_counts = []\n",
    "model_bac_scores = []\n",
    "model_rec_scores = []\n",
    "model_auc_scores = []\n",
    "model_f1_scores=[]"
   ]
  },
  {
   "cell_type": "code",
   "execution_count": 31,
   "metadata": {},
   "outputs": [],
   "source": [
    "X = normm_train_data\n",
    "y = target_data"
   ]
  },
  {
   "cell_type": "code",
   "execution_count": 32,
   "metadata": {},
   "outputs": [
    {
     "name": "stdout",
     "output_type": "stream",
     "text": [
      "Fitting 4 folds for each of 20 candidates, totalling 80 fits\n"
     ]
    },
    {
     "name": "stderr",
     "output_type": "stream",
     "text": [
      "[Parallel(n_jobs=4)]: Using backend LokyBackend with 4 concurrent workers.\n",
      "[Parallel(n_jobs=4)]: Done   5 tasks      | elapsed:    7.3s\n",
      "[Parallel(n_jobs=4)]: Done  10 tasks      | elapsed:    8.0s\n",
      "[Parallel(n_jobs=4)]: Done  17 tasks      | elapsed:   12.9s\n",
      "[Parallel(n_jobs=4)]: Done  24 tasks      | elapsed:   13.1s\n",
      "[Parallel(n_jobs=4)]: Done  33 tasks      | elapsed:   15.0s\n",
      "[Parallel(n_jobs=4)]: Done  42 tasks      | elapsed:   17.8s\n",
      "[Parallel(n_jobs=4)]: Done  53 tasks      | elapsed:   19.3s\n",
      "[Parallel(n_jobs=4)]: Done  64 tasks      | elapsed:   21.4s\n",
      "[Parallel(n_jobs=4)]: Done  80 out of  80 | elapsed:   25.2s finished\n"
     ]
    },
    {
     "data": {
      "text/plain": [
       "{'class_weight': 'balanced', 'max_features': 'sqrt', 'n_estimators': 200}"
      ]
     },
     "execution_count": 32,
     "metadata": {},
     "output_type": "execute_result"
    }
   ],
   "source": [
    "hp_grid = {'n_estimators': [10, 50, 100, 200, 500], \n",
    "           'max_features': ['sqrt','log2'],\n",
    "            'class_weight': [{0: 0.005, 1: 0.995}, 'balanced']}\n",
    "gscv_rfc = GSCV(estimator=RFC(random_state=0), param_grid=hp_grid, cv=4, n_jobs=4, verbose=10, scoring='recall')\n",
    "gscv_rfc.fit(X, y)\n",
    "gscv_rfc.best_params_"
   ]
  },
  {
   "cell_type": "code",
   "execution_count": 33,
   "metadata": {},
   "outputs": [
    {
     "name": "stderr",
     "output_type": "stream",
     "text": [
      "[Parallel(n_jobs=5)]: Using backend LokyBackend with 5 concurrent workers.\n",
      "[Parallel(n_jobs=5)]: Done   2 out of   5 | elapsed:    1.5s remaining:    2.2s\n",
      "[Parallel(n_jobs=5)]: Done   3 out of   5 | elapsed:    1.5s remaining:    0.9s\n",
      "[Parallel(n_jobs=5)]: Done   5 out of   5 | elapsed:    2.3s remaining:    0.0s\n",
      "[Parallel(n_jobs=5)]: Done   5 out of   5 | elapsed:    2.3s finished\n"
     ]
    },
    {
     "data": {
      "text/plain": [
       "{'fit_time': array([1.07713938, 1.07480669, 1.04787636, 1.16108704, 0.78932786]),\n",
       " 'score_time': array([0.42745924, 0.43843436, 0.39949727, 0.44441628, 0.09474874]),\n",
       " 'test_balanced_accuracy': array([0.67677225, 0.63031674, 0.68546366, 0.76096491, 0.7070802 ]),\n",
       " 'test_f1': array([0.84324324, 0.83937824, 0.86772487, 0.875     , 0.86338798]),\n",
       " 'test_roc_auc': array([0.71704374, 0.74736048, 0.7360589 , 0.79354637, 0.77302632]),\n",
       " 'test_recall': array([0.91764706, 0.95294118, 0.97619048, 0.91666667, 0.94047619])}"
      ]
     },
     "metadata": {},
     "output_type": "display_data"
    },
    {
     "name": "stdout",
     "output_type": "stream",
     "text": [
      "\t\tModel Training Evaluation (Cross-Validation) Results for rfc_model_X_1: \n",
      "\n",
      "\t\t\tbac: 0.692119552274351 \n",
      "\t\t\tauc: 0.7534071604350242  \n",
      "\t\t\tf1: 0.8577468654904312    \n",
      "\t\t\trec: 0.9407843137254902\n"
     ]
    }
   ],
   "source": [
    "XX = X;  yy=y;\n",
    "rfc_model_1 = RFC(random_state=0,max_features='sqrt',n_estimators=200,class_weight='balanced')\n",
    "\n",
    "cv_results_rfc_model_1 = CV(rfc_model_1 ,XX,yy, cv=5, n_jobs=5 , verbose=10 , scoring=cv_scoring)\n",
    "display(cv_results_rfc_model_1)\n",
    "\n",
    "rfc_model_1_bac = cv_results_rfc_model_1['test_balanced_accuracy'].mean()\n",
    "rfc_model_1_auc = cv_results_rfc_model_1['test_roc_auc'].mean()\n",
    "rfc_model_1_f1  = cv_results_rfc_model_1['test_f1'].mean()\n",
    "rfc_model_1_rec = cv_results_rfc_model_1['test_recall'].mean()\n",
    "\n",
    "print('\\t\\tModel Training Evaluation (Cross-Validation) Results for rfc_model_X_1: ')\n",
    "print('\\n\\t\\t\\tbac: {} \\n\\t\\t\\tauc: {}  \\n\\t\\t\\tf1: {}    \\n\\t\\t\\trec: {}'\n",
    "          .format(rfc_model_1_bac, rfc_model_1_auc,rfc_model_1_f1,rfc_model_1_rec))\n",
    "\n",
    "model_names.append('rfc_model_X_1')\n",
    "feature_counts.append(XX.shape[1])\n",
    "model_bac_scores.append(rfc_model_1_bac)\n",
    "model_auc_scores.append(rfc_model_1_auc)\n",
    "model_f1_scores.append(rfc_model_1_f1)\n",
    "model_rec_scores.append(rfc_model_1_rec)"
   ]
  },
  {
   "cell_type": "markdown",
   "metadata": {},
   "source": [
    "rfc_model_2 = RFC(random_state=0)\n",
    "\n",
    "cv_results_rfc_model_2 = CV(rfc_model_2 ,XX,yy, cv=5, n_jobs=5 , verbose=10 , scoring=cv_scoring)\n",
    "display(cv_results_rfc_model_2)\n",
    "\n",
    "rfc_model_2_bac = cv_results_rfc_model_2['test_balanced_accuracy'].mean()\n",
    "rfc_model_2_auc = cv_results_rfc_model_2['test_roc_auc'].mean()\n",
    "rfc_model_2_f1  = cv_results_rfc_model_2['test_f1'].mean()\n",
    "rfc_model_2_rec = cv_results_rfc_model_2['test_recall'].mean()\n",
    "\n",
    "print('\\t\\tModel Training Evaluation (Cross-Validation) Results for rfc_model_X_2: ')\n",
    "print('\\n\\t\\t\\tbac: {} \\n\\t\\t\\tauc: {}  \\n\\t\\t\\tf1: {} \\n\\t\\t\\trec: {}'\n",
    "      .format(rfc_model_2_bac, rfc_model_2_auc,rfc_model_2_f1,rfc_model_2_rec))\n",
    "\n",
    "model_names.append('rfc_model_X_2')\n",
    "feature_counts.append(XX.shape[1])\n",
    "model_bac_scores.append(rfc_model_2_bac)\n",
    "model_auc_scores.append(rfc_model_2_auc)\n",
    "model_f1_scores.append(rfc_model_2_f1)\n",
    "model_rec_scores.append(rfc_model_2_rec)"
   ]
  },
  {
   "cell_type": "code",
   "execution_count": 34,
   "metadata": {},
   "outputs": [
    {
     "name": "stderr",
     "output_type": "stream",
     "text": [
      "[Parallel(n_jobs=5)]: Using backend LokyBackend with 5 concurrent workers.\n",
      "[Parallel(n_jobs=5)]: Batch computation too fast (0.0634s.) Setting batch_size=6.\n",
      "[Parallel(n_jobs=5)]: Done   2 out of   5 | elapsed:    0.0s remaining:    0.0s\n",
      "[Parallel(n_jobs=5)]: Done   3 out of   5 | elapsed:    0.0s remaining:    0.0s\n",
      "[Parallel(n_jobs=5)]: Done   5 out of   5 | elapsed:    3.3s remaining:    0.0s\n",
      "[Parallel(n_jobs=5)]: Done   5 out of   5 | elapsed:    3.3s finished\n"
     ]
    },
    {
     "data": {
      "text/plain": [
       "{'fit_time': array([0.00897384, 0.01096916, 0.01595592, 0.01396465, 0.02506375]),\n",
       " 'score_time': array([0.009974  , 0.02792716, 0.02892327, 0.01256132, 0.02593112]),\n",
       " 'test_balanced_accuracy': array([0.49140271, 0.5       , 0.5       , 0.50125313, 0.5       ]),\n",
       " 'test_f1': array([0.77777778, 0.        , 0.        , 0.80788177, 0.        ]),\n",
       " 'test_roc_auc': array([0.56651584, 0.60935143, 0.57769424, 0.47274436, 0.5466792 ]),\n",
       " 'test_recall': array([0.90588235, 0.        , 0.        , 0.97619048, 0.        ])}"
      ]
     },
     "metadata": {},
     "output_type": "display_data"
    },
    {
     "name": "stdout",
     "output_type": "stream",
     "text": [
      "\t\tModel Training Evaluation (Cross-Validation) Results for sdc_model_1: \n",
      "\n",
      "\t\t\tbac: 0.4985311695528414 \n",
      "\t\t\tauc: 0.5545970128942266  \n",
      "\t\t\tf1: 0.3171319102353585   \n",
      "\t\t\trec: 0.37641456582633054\n"
     ]
    }
   ],
   "source": [
    "sdc_model_1 = SDC(random_state=0,class_weight='balanced',max_iter=1000,loss='log')\n",
    "\n",
    "cv_results_sdc_model_1 = CV(sdc_model_1 ,XX,yy, cv=5, n_jobs=5 , verbose=10 , scoring=cv_scoring)\n",
    "display(cv_results_sdc_model_1)\n",
    "\n",
    "sdc_model_1_bac = cv_results_sdc_model_1['test_balanced_accuracy'].mean()\n",
    "sdc_model_1_auc = cv_results_sdc_model_1['test_roc_auc'].mean()\n",
    "sdc_model_1_f1  = cv_results_sdc_model_1['test_f1'].mean()\n",
    "sdc_model_1_rec = cv_results_sdc_model_1['test_recall'].mean()\n",
    "\n",
    "print('\\t\\tModel Training Evaluation (Cross-Validation) Results for sdc_model_1: ')\n",
    "print('\\n\\t\\t\\tbac: {} \\n\\t\\t\\tauc: {}  \\n\\t\\t\\tf1: {}   \\n\\t\\t\\trec: {}'\n",
    "      .format(sdc_model_1_bac, sdc_model_1_auc,sdc_model_1_f1,sdc_model_1_rec))\n",
    "\n",
    "model_names.append('sdc_model_1')\n",
    "feature_counts.append(XX.shape[1])\n",
    "model_bac_scores.append(sdc_model_1_bac)\n",
    "model_auc_scores.append(sdc_model_1_auc)\n",
    "model_f1_scores.append(sdc_model_1_f1)\n",
    "model_rec_scores.append(sdc_model_1_rec)"
   ]
  },
  {
   "cell_type": "code",
   "execution_count": 35,
   "metadata": {},
   "outputs": [
    {
     "name": "stderr",
     "output_type": "stream",
     "text": [
      "[Parallel(n_jobs=5)]: Using backend LokyBackend with 5 concurrent workers.\n",
      "[Parallel(n_jobs=5)]: Batch computation too fast (0.0604s.) Setting batch_size=6.\n",
      "[Parallel(n_jobs=5)]: Done   2 out of   5 | elapsed:    0.0s remaining:    0.0s\n",
      "[Parallel(n_jobs=5)]: Done   3 out of   5 | elapsed:    0.0s remaining:    0.0s\n",
      "[Parallel(n_jobs=5)]: Done   5 out of   5 | elapsed:    0.1s remaining:    0.0s\n",
      "[Parallel(n_jobs=5)]: Done   5 out of   5 | elapsed:    0.1s finished\n"
     ]
    },
    {
     "data": {
      "text/plain": [
       "{'fit_time': array([0.00699139, 0.00698113, 0.00797701, 0.01196837, 0.0059855 ]),\n",
       " 'score_time': array([0.00996399, 0.01247859, 0.01994824, 0.01296544, 0.01396179]),\n",
       " 'test_balanced_accuracy': array([0.61206637, 0.62488688, 0.61403509, 0.72180451, 0.66102757]),\n",
       " 'test_f1': array([0.77011494, 0.77456647, 0.79096045, 0.80981595, 0.74358974]),\n",
       " 'test_roc_auc': array([0.61206637, 0.62488688, 0.61403509, 0.72180451, 0.66102757]),\n",
       " 'test_recall': array([0.78823529, 0.78823529, 0.83333333, 0.78571429, 0.69047619])}"
      ]
     },
     "metadata": {},
     "output_type": "display_data"
    },
    {
     "name": "stdout",
     "output_type": "stream",
     "text": [
      "\t\tModel Training Evaluation (Cross-Validation) Results for dtc_model_1: \n",
      "\n",
      "\t\t\tbac: 0.6467640821510792 \n",
      "\t\t\tauc: 0.6467640821510791  \n",
      "\t\t\tf1: 0.777809512600913   \n",
      "\t\t\trec: 0.7771988795518207\n"
     ]
    }
   ],
   "source": [
    "dtc_model_1 = DTC(random_state=0,class_weight='balanced',max_features='sqrt')\n",
    "\n",
    "cv_results_dtc_model_1 = CV(dtc_model_1 ,XX,yy, cv=5, n_jobs=5 , verbose=10 , scoring=cv_scoring)\n",
    "display(cv_results_dtc_model_1)\n",
    "\n",
    "dtc_model_1_bac = cv_results_dtc_model_1['test_balanced_accuracy'].mean()\n",
    "dtc_model_1_auc = cv_results_dtc_model_1['test_roc_auc'].mean()\n",
    "dtc_model_1_f1  = cv_results_dtc_model_1['test_f1'].mean()\n",
    "dtc_model_1_rec = cv_results_dtc_model_1['test_recall'].mean()\n",
    "\n",
    "print('\\t\\tModel Training Evaluation (Cross-Validation) Results for dtc_model_1: ')\n",
    "print('\\n\\t\\t\\tbac: {} \\n\\t\\t\\tauc: {}  \\n\\t\\t\\tf1: {}   \\n\\t\\t\\trec: {}'\n",
    "      .format(dtc_model_1_bac, dtc_model_1_auc,dtc_model_1_f1,dtc_model_1_rec))\n",
    "\n",
    "model_names.append('dtc_model_1')\n",
    "feature_counts.append(XX.shape[1])\n",
    "model_bac_scores.append(dtc_model_1_bac)\n",
    "model_auc_scores.append(dtc_model_1_auc)\n",
    "model_f1_scores.append(dtc_model_1_f1)\n",
    "model_rec_scores.append(dtc_model_1_rec)"
   ]
  },
  {
   "cell_type": "code",
   "execution_count": 36,
   "metadata": {},
   "outputs": [
    {
     "name": "stderr",
     "output_type": "stream",
     "text": [
      "[Parallel(n_jobs=5)]: Using backend LokyBackend with 5 concurrent workers.\n",
      "[Parallel(n_jobs=5)]: Batch computation too fast (0.0289s.) Setting batch_size=12.\n",
      "[Parallel(n_jobs=5)]: Done   2 out of   5 | elapsed:    0.0s remaining:    0.0s\n",
      "[Parallel(n_jobs=5)]: Done   3 out of   5 | elapsed:    0.0s remaining:    0.0s\n",
      "[Parallel(n_jobs=5)]: Done   5 out of   5 | elapsed:    0.0s remaining:    0.0s\n",
      "[Parallel(n_jobs=5)]: Done   5 out of   5 | elapsed:    0.0s finished\n"
     ]
    },
    {
     "data": {
      "text/plain": [
       "{'fit_time': array([0.00282526, 0.00562835, 0.00350547, 0.00299144, 0.01048803]),\n",
       " 'score_time': array([0.00997329, 0.01084447, 0.01097322, 0.01196671, 0.01396155]),\n",
       " 'test_balanced_accuracy': array([0.69064857, 0.64630468, 0.68922306, 0.72650376, 0.65946115]),\n",
       " 'test_f1': array([0.83977901, 0.81967213, 0.84444444, 0.82634731, 0.81142857]),\n",
       " 'test_roc_auc': array([0.67058824, 0.69924585, 0.76817043, 0.72493734, 0.73057644]),\n",
       " 'test_recall': array([0.89411765, 0.88235294, 0.9047619 , 0.82142857, 0.8452381 ])}"
      ]
     },
     "metadata": {},
     "output_type": "display_data"
    },
    {
     "name": "stdout",
     "output_type": "stream",
     "text": [
      "\t\tModel Training Evaluation (Cross-Validation) Results for nbc_model_1: \n",
      "\n",
      "\t\t\tbac: 0.6824282425520816 \n",
      "\t\t\tauc: 0.7187036596014924  \n",
      "\t\t\tf1: 0.8283342915869282   \n",
      "\t\t\trec: 0.869579831932773\n"
     ]
    }
   ],
   "source": [
    "nbc_model_1 = NBC(priors=None, var_smoothing=1e-09)\n",
    "\n",
    "cv_results_nbc_model_1 = CV(nbc_model_1 ,XX,yy, cv=5, n_jobs=5 , verbose=10 , scoring=cv_scoring)\n",
    "display(cv_results_nbc_model_1)\n",
    "\n",
    "nbc_model_1_bac = cv_results_nbc_model_1['test_balanced_accuracy'].mean()\n",
    "nbc_model_1_auc = cv_results_nbc_model_1['test_roc_auc'].mean()\n",
    "nbc_model_1_f1  = cv_results_nbc_model_1['test_f1'].mean()\n",
    "nbc_model_1_rec = cv_results_nbc_model_1['test_recall'].mean()\n",
    "\n",
    "print('\\t\\tModel Training Evaluation (Cross-Validation) Results for nbc_model_1: ')\n",
    "print('\\n\\t\\t\\tbac: {} \\n\\t\\t\\tauc: {}  \\n\\t\\t\\tf1: {}   \\n\\t\\t\\trec: {}'\n",
    "      .format(nbc_model_1_bac, nbc_model_1_auc,nbc_model_1_f1,nbc_model_1_rec))\n",
    "\n",
    "\n",
    "model_names.append('nbc_model_1')\n",
    "feature_counts.append(XX.shape[1])\n",
    "model_bac_scores.append(nbc_model_1_bac)\n",
    "model_auc_scores.append(nbc_model_1_auc)\n",
    "model_f1_scores.append(nbc_model_1_f1)\n",
    "model_rec_scores.append(nbc_model_1_rec)"
   ]
  },
  {
   "cell_type": "code",
   "execution_count": 37,
   "metadata": {},
   "outputs": [
    {
     "name": "stdout",
     "output_type": "stream",
     "text": [
      "\t\tModel Training Evaluation (Cross-Validation) Results for LR_model_1: \n",
      "\n",
      "\t\t\tbac: 0.522541931752458 \n",
      "\t\t\tauc: 0.548703999818551  \n",
      "\t\t\tf1: 0.5791529507181625   \n",
      "\t\t\trec: 0.4928571428571429\n"
     ]
    },
    {
     "name": "stderr",
     "output_type": "stream",
     "text": [
      "[Parallel(n_jobs=5)]: Using backend LokyBackend with 5 concurrent workers.\n",
      "[Parallel(n_jobs=5)]: Batch computation too fast (0.0314s.) Setting batch_size=12.\n",
      "[Parallel(n_jobs=5)]: Done   2 out of   5 | elapsed:    0.0s remaining:    0.0s\n",
      "[Parallel(n_jobs=5)]: Done   3 out of   5 | elapsed:    0.0s remaining:    0.0s\n",
      "[Parallel(n_jobs=5)]: Done   5 out of   5 | elapsed:    0.0s remaining:    0.0s\n",
      "[Parallel(n_jobs=5)]: Done   5 out of   5 | elapsed:    0.0s finished\n"
     ]
    }
   ],
   "source": [
    "lrc_model_1 = LR(random_state=0, max_iter=1000, multi_class='ovr', class_weight='balanced', solver='saga', C=0.001)\n",
    "cv_results_lrc_model_1 = CV(lrc_model_1, XX, yy, cv=5, n_jobs=5, verbose=10, scoring=cv_scoring)\n",
    "cv_results_lrc_model_1\n",
    "lrc_model_1_bac = cv_results_lrc_model_1['test_balanced_accuracy'].mean()\n",
    "lrc_model_1_auc = cv_results_lrc_model_1['test_roc_auc'].mean()\n",
    "lrc_model_1_f1  = cv_results_lrc_model_1['test_f1'].mean()\n",
    "lrc_model_1_rec = cv_results_lrc_model_1['test_recall'].mean()\n",
    "\n",
    "print('\\t\\tModel Training Evaluation (Cross-Validation) Results for LR_model_1: ')\n",
    "print('\\n\\t\\t\\tbac: {} \\n\\t\\t\\tauc: {}  \\n\\t\\t\\tf1: {}   \\n\\t\\t\\trec: {}'\n",
    "      .format(lrc_model_1_bac, lrc_model_1_auc,lrc_model_1_f1,lrc_model_1_rec))\n",
    "\n",
    "\n",
    "model_names.append('lrc_model_1')\n",
    "feature_counts.append(XX.shape[1])\n",
    "model_bac_scores.append(lrc_model_1_bac)\n",
    "model_auc_scores.append(lrc_model_1_auc)\n",
    "model_f1_scores.append(lrc_model_1_f1)\n",
    "model_rec_scores.append(lrc_model_1_rec)"
   ]
  },
  {
   "cell_type": "code",
   "execution_count": 38,
   "metadata": {},
   "outputs": [
    {
     "name": "stdout",
     "output_type": "stream",
     "text": [
      "\t\tModel Training Evaluation (Cross-Validation) Results for knn_model_1: \n",
      "\n",
      "\t\t\tbac: 0.5361665475906962 \n",
      "\t\t\tauc: 0.5630150035722791  \n",
      "\t\t\tf1: 0.7827590706652394   \n",
      "\t\t\trec: 0.8792156862745099\n"
     ]
    },
    {
     "name": "stderr",
     "output_type": "stream",
     "text": [
      "[Parallel(n_jobs=5)]: Using backend LokyBackend with 5 concurrent workers.\n",
      "[Parallel(n_jobs=5)]: Batch computation too fast (0.1112s.) Setting batch_size=2.\n",
      "[Parallel(n_jobs=5)]: Done   2 out of   5 | elapsed:    0.0s remaining:    0.1s\n",
      "[Parallel(n_jobs=5)]: Done   3 out of   5 | elapsed:    0.0s remaining:    0.0s\n",
      "[Parallel(n_jobs=5)]: Done   5 out of   5 | elapsed:    0.0s remaining:    0.0s\n",
      "[Parallel(n_jobs=5)]: Done   5 out of   5 | elapsed:    0.0s finished\n"
     ]
    }
   ],
   "source": [
    "knn_model_1 = KNN()\n",
    "cv_results_knn_model_1 = CV(knn_model_1, XX, yy, cv=5, n_jobs=5, verbose=10, scoring=cv_scoring)\n",
    "cv_results_knn_model_1\n",
    "knn_model_1_bac = cv_results_knn_model_1['test_balanced_accuracy'].mean()\n",
    "knn_model_1_auc = cv_results_knn_model_1['test_roc_auc'].mean()\n",
    "knn_model_1_f1  = cv_results_knn_model_1['test_f1'].mean()\n",
    "knn_model_1_rec = cv_results_knn_model_1['test_recall'].mean()\n",
    "\n",
    "print('\\t\\tModel Training Evaluation (Cross-Validation) Results for knn_model_1: ')\n",
    "print('\\n\\t\\t\\tbac: {} \\n\\t\\t\\tauc: {}  \\n\\t\\t\\tf1: {}   \\n\\t\\t\\trec: {}'\n",
    "      .format(knn_model_1_bac, knn_model_1_auc,knn_model_1_f1,knn_model_1_rec))\n",
    "\n",
    "model_names.append('knn_model_1')\n",
    "feature_counts.append(XX.shape[1])\n",
    "model_bac_scores.append(knn_model_1_bac)\n",
    "model_auc_scores.append(knn_model_1_auc)\n",
    "model_f1_scores.append(knn_model_1_f1)\n",
    "model_rec_scores.append(knn_model_1_rec)"
   ]
  },
  {
   "cell_type": "code",
   "execution_count": 39,
   "metadata": {},
   "outputs": [
    {
     "data": {
      "text/html": [
       "<div>\n",
       "<style scoped>\n",
       "    .dataframe tbody tr th:only-of-type {\n",
       "        vertical-align: middle;\n",
       "    }\n",
       "\n",
       "    .dataframe tbody tr th {\n",
       "        vertical-align: top;\n",
       "    }\n",
       "\n",
       "    .dataframe thead th {\n",
       "        text-align: right;\n",
       "    }\n",
       "</style>\n",
       "<table border=\"1\" class=\"dataframe\">\n",
       "  <thead>\n",
       "    <tr style=\"text-align: right;\">\n",
       "      <th></th>\n",
       "      <th>model</th>\n",
       "      <th>feature_count</th>\n",
       "      <th>bac</th>\n",
       "      <th>auc</th>\n",
       "      <th>f1</th>\n",
       "      <th>rec</th>\n",
       "    </tr>\n",
       "  </thead>\n",
       "  <tbody>\n",
       "    <tr>\n",
       "      <td>0</td>\n",
       "      <td>rfc_model_X_1</td>\n",
       "      <td>11</td>\n",
       "      <td>0.692120</td>\n",
       "      <td>0.753407</td>\n",
       "      <td>0.857747</td>\n",
       "      <td>0.940784</td>\n",
       "    </tr>\n",
       "    <tr>\n",
       "      <td>1</td>\n",
       "      <td>sdc_model_1</td>\n",
       "      <td>11</td>\n",
       "      <td>0.498531</td>\n",
       "      <td>0.554597</td>\n",
       "      <td>0.317132</td>\n",
       "      <td>0.376415</td>\n",
       "    </tr>\n",
       "    <tr>\n",
       "      <td>2</td>\n",
       "      <td>dtc_model_1</td>\n",
       "      <td>11</td>\n",
       "      <td>0.646764</td>\n",
       "      <td>0.646764</td>\n",
       "      <td>0.777810</td>\n",
       "      <td>0.777199</td>\n",
       "    </tr>\n",
       "    <tr>\n",
       "      <td>3</td>\n",
       "      <td>nbc_model_1</td>\n",
       "      <td>11</td>\n",
       "      <td>0.682428</td>\n",
       "      <td>0.718704</td>\n",
       "      <td>0.828334</td>\n",
       "      <td>0.869580</td>\n",
       "    </tr>\n",
       "    <tr>\n",
       "      <td>4</td>\n",
       "      <td>lrc_model_1</td>\n",
       "      <td>11</td>\n",
       "      <td>0.522542</td>\n",
       "      <td>0.548704</td>\n",
       "      <td>0.579153</td>\n",
       "      <td>0.492857</td>\n",
       "    </tr>\n",
       "    <tr>\n",
       "      <td>5</td>\n",
       "      <td>knn_model_1</td>\n",
       "      <td>11</td>\n",
       "      <td>0.536167</td>\n",
       "      <td>0.563015</td>\n",
       "      <td>0.782759</td>\n",
       "      <td>0.879216</td>\n",
       "    </tr>\n",
       "  </tbody>\n",
       "</table>\n",
       "</div>"
      ],
      "text/plain": [
       "           model  feature_count       bac       auc        f1       rec\n",
       "0  rfc_model_X_1             11  0.692120  0.753407  0.857747  0.940784\n",
       "1    sdc_model_1             11  0.498531  0.554597  0.317132  0.376415\n",
       "2    dtc_model_1             11  0.646764  0.646764  0.777810  0.777199\n",
       "3    nbc_model_1             11  0.682428  0.718704  0.828334  0.869580\n",
       "4    lrc_model_1             11  0.522542  0.548704  0.579153  0.492857\n",
       "5    knn_model_1             11  0.536167  0.563015  0.782759  0.879216"
      ]
     },
     "execution_count": 39,
     "metadata": {},
     "output_type": "execute_result"
    }
   ],
   "source": [
    "df_model_eval = pd.DataFrame({'model': model_names, 'feature_count': feature_counts, \n",
    "                              'bac': model_bac_scores,'auc': model_auc_scores,\n",
    "                              'f1' :model_f1_scores,'rec':model_rec_scores})\n",
    "\n",
    "df_model_eval"
   ]
  },
  {
   "cell_type": "code",
   "execution_count": 40,
   "metadata": {},
   "outputs": [
    {
     "data": {
      "text/plain": [
       "RandomForestClassifier(bootstrap=True, class_weight='balanced',\n",
       "                       criterion='gini', max_depth=None, max_features='sqrt',\n",
       "                       max_leaf_nodes=None, min_impurity_decrease=0.0,\n",
       "                       min_impurity_split=None, min_samples_leaf=1,\n",
       "                       min_samples_split=2, min_weight_fraction_leaf=0.0,\n",
       "                       n_estimators=200, n_jobs=None, oob_score=False,\n",
       "                       random_state=0, verbose=0, warm_start=False)"
      ]
     },
     "execution_count": 40,
     "metadata": {},
     "output_type": "execute_result"
    }
   ],
   "source": [
    "# Extract - Feature Importances\n",
    "rfc_model_1.fit(X, y)"
   ]
  },
  {
   "cell_type": "code",
   "execution_count": 41,
   "metadata": {},
   "outputs": [
    {
     "data": {
      "text/plain": [
       "<matplotlib.axes._subplots.AxesSubplot at 0x241a1d73108>"
      ]
     },
     "execution_count": 41,
     "metadata": {},
     "output_type": "execute_result"
    },
    {
     "data": {
      "image/png": "[encoded data removed]",
      "text/plain": [
       "<Figure size 864x648 with 1 Axes>"
      ]
     },
     "metadata": {},
     "output_type": "display_data"
    }
   ],
   "source": [
    "feature_importances = pd.DataFrame({'feature': list(df_train_data.columns), \n",
    "                                    'importance': list(rfc_model_1.feature_importances_)})\n",
    "feature_importances.sort_values(by='importance', inplace=True)\n",
    "feature_importances.set_index('feature', drop=True, inplace=True)\n",
    "feature_importances.plot(kind='barh')"
   ]
  },
  {
   "cell_type": "code",
   "execution_count": 42,
   "metadata": {},
   "outputs": [
    {
     "data": {
      "text/html": [
       "<div>\n",
       "<style scoped>\n",
       "    .dataframe tbody tr th:only-of-type {\n",
       "        vertical-align: middle;\n",
       "    }\n",
       "\n",
       "    .dataframe tbody tr th {\n",
       "        vertical-align: top;\n",
       "    }\n",
       "\n",
       "    .dataframe thead th {\n",
       "        text-align: right;\n",
       "    }\n",
       "</style>\n",
       "<table border=\"1\" class=\"dataframe\">\n",
       "  <thead>\n",
       "    <tr style=\"text-align: right;\">\n",
       "      <th></th>\n",
       "      <th>Gender</th>\n",
       "      <th>Married</th>\n",
       "      <th>Dependents</th>\n",
       "      <th>Education</th>\n",
       "      <th>Self_Employed</th>\n",
       "      <th>ApplicantIncome</th>\n",
       "      <th>CoapplicantIncome</th>\n",
       "      <th>LoanAmount</th>\n",
       "      <th>Loan_Amount_Term</th>\n",
       "      <th>Credit_History</th>\n",
       "      <th>Property_Area</th>\n",
       "    </tr>\n",
       "  </thead>\n",
       "  <tbody>\n",
       "    <tr>\n",
       "      <td>0</td>\n",
       "      <td>1.0</td>\n",
       "      <td>1.0</td>\n",
       "      <td>0</td>\n",
       "      <td>3</td>\n",
       "      <td>1.0</td>\n",
       "      <td>5849</td>\n",
       "      <td>0.0</td>\n",
       "      <td>146.412162</td>\n",
       "      <td>360.0</td>\n",
       "      <td>1.0</td>\n",
       "      <td>5</td>\n",
       "    </tr>\n",
       "    <tr>\n",
       "      <td>1</td>\n",
       "      <td>1.0</td>\n",
       "      <td>3.0</td>\n",
       "      <td>1</td>\n",
       "      <td>3</td>\n",
       "      <td>1.0</td>\n",
       "      <td>4583</td>\n",
       "      <td>1508.0</td>\n",
       "      <td>128.000000</td>\n",
       "      <td>360.0</td>\n",
       "      <td>1.0</td>\n",
       "      <td>1</td>\n",
       "    </tr>\n",
       "  </tbody>\n",
       "</table>\n",
       "</div>"
      ],
      "text/plain": [
       "   Gender  Married Dependents  Education  Self_Employed  ApplicantIncome  \\\n",
       "0     1.0      1.0          0          3            1.0             5849   \n",
       "1     1.0      3.0          1          3            1.0             4583   \n",
       "\n",
       "   CoapplicantIncome  LoanAmount  Loan_Amount_Term  Credit_History  \\\n",
       "0                0.0  146.412162             360.0             1.0   \n",
       "1             1508.0  128.000000             360.0             1.0   \n",
       "\n",
       "   Property_Area  \n",
       "0              5  \n",
       "1              1  "
      ]
     },
     "execution_count": 42,
     "metadata": {},
     "output_type": "execute_result"
    }
   ],
   "source": [
    "df_train_data.head(2)"
   ]
  },
  {
   "cell_type": "code",
   "execution_count": 43,
   "metadata": {},
   "outputs": [],
   "source": [
    "df_train_features = df_train_data.drop(columns = ['Dependents', 'CoapplicantIncome', 'Gender', 'Self_Employed'])\n",
    "df_test_features = df_test_data.drop(columns = ['Dependents', 'CoapplicantIncome', 'Gender', 'Self_Employed'])\n"
   ]
  },
  {
   "cell_type": "code",
   "execution_count": 44,
   "metadata": {},
   "outputs": [],
   "source": [
    "train_X1 = normm.fit_transform(df_train_features)\n",
    "test_X1 = normm.fit_transform(df_test_features)"
   ]
  },
  {
   "cell_type": "code",
   "execution_count": null,
   "metadata": {},
   "outputs": [],
   "source": [
    "# by using feature importance - for further analysis using RFC model"
   ]
  },
  {
   "cell_type": "code",
   "execution_count": 45,
   "metadata": {},
   "outputs": [
    {
     "name": "stderr",
     "output_type": "stream",
     "text": [
      "[Parallel(n_jobs=5)]: Using backend LokyBackend with 5 concurrent workers.\n",
      "[Parallel(n_jobs=5)]: Done   2 out of   5 | elapsed:    1.6s remaining:    2.5s\n",
      "[Parallel(n_jobs=5)]: Done   3 out of   5 | elapsed:    1.7s remaining:    1.1s\n",
      "[Parallel(n_jobs=5)]: Done   5 out of   5 | elapsed:    1.8s remaining:    0.0s\n",
      "[Parallel(n_jobs=5)]: Done   5 out of   5 | elapsed:    1.8s finished\n"
     ]
    },
    {
     "data": {
      "text/plain": [
       "{'fit_time': array([1.37268448, 1.40057898, 1.42583251, 1.35115314, 1.3806324 ]),\n",
       " 'score_time': array([0.25739026, 0.21754503, 0.20306611, 0.1531539 , 0.2324574 ]),\n",
       " 'test_balanced_accuracy': array([0.72699849, 0.65007541, 0.65570175, 0.76691729, 0.68922306]),\n",
       " 'test_f1': array([0.86956522, 0.84210526, 0.83695652, 0.88135593, 0.84444444]),\n",
       " 'test_roc_auc': array([0.83499246, 0.70180995, 0.71115288, 0.81751253, 0.76738722]),\n",
       " 'test_recall': array([0.94117647, 0.94117647, 0.91666667, 0.92857143, 0.9047619 ])}"
      ]
     },
     "metadata": {},
     "output_type": "display_data"
    },
    {
     "name": "stdout",
     "output_type": "stream",
     "text": [
      "\t\tModel Training Evaluation (Cross-Validation) Results for rfc_model_X_2: \n",
      "\n",
      "\t\t\tbac: 0.6977832023497659 \n",
      "\t\t\tauc: 0.7665710089703899  \n",
      "\t\t\tf1: 0.8548854757872327    \n",
      "\t\t\trec: 0.9264705882352942\n"
     ]
    }
   ],
   "source": [
    "rfc_model_2 = RFC(random_state=0,max_features='sqrt',n_estimators=200,class_weight='balanced')\n",
    "\n",
    "cv_results_rfc_model_2 = CV(rfc_model_2, train_X1 , yy , cv=5, n_jobs=5 , verbose=10 , scoring=cv_scoring)\n",
    "display(cv_results_rfc_model_2)\n",
    "\n",
    "rfc_model_2_bac = cv_results_rfc_model_2['test_balanced_accuracy'].mean()\n",
    "rfc_model_2_auc = cv_results_rfc_model_2['test_roc_auc'].mean()\n",
    "rfc_model_2_f1  = cv_results_rfc_model_2['test_f1'].mean()\n",
    "rfc_model_2_rec = cv_results_rfc_model_2['test_recall'].mean()\n",
    "\n",
    "print('\\t\\tModel Training Evaluation (Cross-Validation) Results for rfc_model_X_2: ')\n",
    "print('\\n\\t\\t\\tbac: {} \\n\\t\\t\\tauc: {}  \\n\\t\\t\\tf1: {}    \\n\\t\\t\\trec: {}'\n",
    "          .format(rfc_model_2_bac, rfc_model_2_auc,rfc_model_2_f1,rfc_model_2_rec))\n",
    "\n",
    "model_names.append('rfc_model_X_2')\n",
    "feature_counts.append(train_X1.shape[1])\n",
    "model_bac_scores.append(rfc_model_2_bac)\n",
    "model_auc_scores.append(rfc_model_2_auc)\n",
    "model_f1_scores.append(rfc_model_2_f1)\n",
    "model_rec_scores.append(rfc_model_2_rec)"
   ]
  },
  {
   "cell_type": "code",
   "execution_count": 46,
   "metadata": {},
   "outputs": [
    {
     "data": {
      "text/html": [
       "<div>\n",
       "<style scoped>\n",
       "    .dataframe tbody tr th:only-of-type {\n",
       "        vertical-align: middle;\n",
       "    }\n",
       "\n",
       "    .dataframe tbody tr th {\n",
       "        vertical-align: top;\n",
       "    }\n",
       "\n",
       "    .dataframe thead th {\n",
       "        text-align: right;\n",
       "    }\n",
       "</style>\n",
       "<table border=\"1\" class=\"dataframe\">\n",
       "  <thead>\n",
       "    <tr style=\"text-align: right;\">\n",
       "      <th></th>\n",
       "      <th>model</th>\n",
       "      <th>feature_count</th>\n",
       "      <th>bac</th>\n",
       "      <th>auc</th>\n",
       "      <th>f1</th>\n",
       "      <th>rec</th>\n",
       "    </tr>\n",
       "  </thead>\n",
       "  <tbody>\n",
       "    <tr>\n",
       "      <td>0</td>\n",
       "      <td>rfc_model_X_1</td>\n",
       "      <td>11</td>\n",
       "      <td>0.692120</td>\n",
       "      <td>0.753407</td>\n",
       "      <td>0.857747</td>\n",
       "      <td>0.940784</td>\n",
       "    </tr>\n",
       "    <tr>\n",
       "      <td>1</td>\n",
       "      <td>sdc_model_1</td>\n",
       "      <td>11</td>\n",
       "      <td>0.498531</td>\n",
       "      <td>0.554597</td>\n",
       "      <td>0.317132</td>\n",
       "      <td>0.376415</td>\n",
       "    </tr>\n",
       "    <tr>\n",
       "      <td>2</td>\n",
       "      <td>dtc_model_1</td>\n",
       "      <td>11</td>\n",
       "      <td>0.646764</td>\n",
       "      <td>0.646764</td>\n",
       "      <td>0.777810</td>\n",
       "      <td>0.777199</td>\n",
       "    </tr>\n",
       "    <tr>\n",
       "      <td>3</td>\n",
       "      <td>nbc_model_1</td>\n",
       "      <td>11</td>\n",
       "      <td>0.682428</td>\n",
       "      <td>0.718704</td>\n",
       "      <td>0.828334</td>\n",
       "      <td>0.869580</td>\n",
       "    </tr>\n",
       "    <tr>\n",
       "      <td>4</td>\n",
       "      <td>lrc_model_1</td>\n",
       "      <td>11</td>\n",
       "      <td>0.522542</td>\n",
       "      <td>0.548704</td>\n",
       "      <td>0.579153</td>\n",
       "      <td>0.492857</td>\n",
       "    </tr>\n",
       "    <tr>\n",
       "      <td>5</td>\n",
       "      <td>knn_model_1</td>\n",
       "      <td>11</td>\n",
       "      <td>0.536167</td>\n",
       "      <td>0.563015</td>\n",
       "      <td>0.782759</td>\n",
       "      <td>0.879216</td>\n",
       "    </tr>\n",
       "    <tr>\n",
       "      <td>6</td>\n",
       "      <td>rfc_model_X_2</td>\n",
       "      <td>7</td>\n",
       "      <td>0.697783</td>\n",
       "      <td>0.766571</td>\n",
       "      <td>0.854885</td>\n",
       "      <td>0.926471</td>\n",
       "    </tr>\n",
       "  </tbody>\n",
       "</table>\n",
       "</div>"
      ],
      "text/plain": [
       "           model  feature_count       bac       auc        f1       rec\n",
       "0  rfc_model_X_1             11  0.692120  0.753407  0.857747  0.940784\n",
       "1    sdc_model_1             11  0.498531  0.554597  0.317132  0.376415\n",
       "2    dtc_model_1             11  0.646764  0.646764  0.777810  0.777199\n",
       "3    nbc_model_1             11  0.682428  0.718704  0.828334  0.869580\n",
       "4    lrc_model_1             11  0.522542  0.548704  0.579153  0.492857\n",
       "5    knn_model_1             11  0.536167  0.563015  0.782759  0.879216\n",
       "6  rfc_model_X_2              7  0.697783  0.766571  0.854885  0.926471"
      ]
     },
     "execution_count": 46,
     "metadata": {},
     "output_type": "execute_result"
    }
   ],
   "source": [
    "df_model_eval = pd.DataFrame({'model': model_names, 'feature_count': feature_counts, \n",
    "                              'bac': model_bac_scores,'auc': model_auc_scores,\n",
    "                              'f1' :model_f1_scores,'rec':model_rec_scores})\n",
    "\n",
    "df_model_eval"
   ]
  },
  {
   "cell_type": "code",
   "execution_count": 47,
   "metadata": {},
   "outputs": [
    {
     "data": {
      "text/plain": [
       "<matplotlib.axes._subplots.AxesSubplot at 0x241a204c888>"
      ]
     },
     "execution_count": 47,
     "metadata": {},
     "output_type": "execute_result"
    },
    {
     "data": {
      "image/png": "[encoded data removed]",
      "text/plain": [
       "<Figure size 864x648 with 2 Axes>"
      ]
     },
     "metadata": {},
     "output_type": "display_data"
    }
   ],
   "source": [
    "sns.heatmap(df_train_data.drop(columns = ['Dependents', 'CoapplicantIncome', 'Gender', 'Self_Employed']).corr(), vmin=-1, vmax=1, cmap='coolwarm', annot=True)"
   ]
  },
  {
   "cell_type": "code",
   "execution_count": 48,
   "metadata": {},
   "outputs": [],
   "source": [
    "df_train_features1 = df_train_data.drop(columns = ['Property_Area', 'Loan_Amount_Term', 'Education','Married'])\n",
    "df_test_features1 = df_test_data.drop(columns = ['Property_Area', 'Loan_Amount_Term', 'Education','Married'])\n",
    "train_X2 = normm.fit_transform(df_train_features1)\n",
    "test_X2 = normm.fit_transform(df_test_features1)"
   ]
  },
  {
   "cell_type": "code",
   "execution_count": 49,
   "metadata": {},
   "outputs": [],
   "source": [
    "# further tune up"
   ]
  },
  {
   "cell_type": "code",
   "execution_count": 50,
   "metadata": {},
   "outputs": [
    {
     "name": "stderr",
     "output_type": "stream",
     "text": [
      "[Parallel(n_jobs=5)]: Using backend LokyBackend with 5 concurrent workers.\n",
      "[Parallel(n_jobs=5)]: Done   2 out of   5 | elapsed:    1.5s remaining:    2.3s\n",
      "[Parallel(n_jobs=5)]: Done   3 out of   5 | elapsed:    1.5s remaining:    1.0s\n",
      "[Parallel(n_jobs=5)]: Done   5 out of   5 | elapsed:    1.6s remaining:    0.0s\n",
      "[Parallel(n_jobs=5)]: Done   5 out of   5 | elapsed:    1.6s finished\n"
     ]
    },
    {
     "data": {
      "text/plain": [
       "{'fit_time': array([1.37268448, 1.40057898, 1.42583251, 1.35115314, 1.3806324 ]),\n",
       " 'score_time': array([0.25739026, 0.21754503, 0.20306611, 0.1531539 , 0.2324574 ]),\n",
       " 'test_balanced_accuracy': array([0.72699849, 0.65007541, 0.65570175, 0.76691729, 0.68922306]),\n",
       " 'test_f1': array([0.86956522, 0.84210526, 0.83695652, 0.88135593, 0.84444444]),\n",
       " 'test_roc_auc': array([0.83499246, 0.70180995, 0.71115288, 0.81751253, 0.76738722]),\n",
       " 'test_recall': array([0.94117647, 0.94117647, 0.91666667, 0.92857143, 0.9047619 ])}"
      ]
     },
     "metadata": {},
     "output_type": "display_data"
    },
    {
     "name": "stdout",
     "output_type": "stream",
     "text": [
      "\t\tModel Training Evaluation (Cross-Validation) Results for rfc_model_X_3: \n",
      "\n",
      "\t\t\tbac: 0.6986073781739416 \n",
      "\t\t\tauc: 0.7629305163360891  \n",
      "\t\t\tf1: 0.8593044396335383    \n",
      "\t\t\trec: 0.938375350140056\n"
     ]
    }
   ],
   "source": [
    "rfc_model_3 = RFC(random_state=0,max_features='sqrt',n_estimators=200,class_weight='balanced')\n",
    "\n",
    "cv_results_rfc_model_3 = CV(rfc_model_3, train_X2 , yy , cv=5, n_jobs=5 , verbose=10 , scoring=cv_scoring)\n",
    "display(cv_results_rfc_model_2)\n",
    "\n",
    "rfc_model_3_bac = cv_results_rfc_model_3['test_balanced_accuracy'].mean()\n",
    "rfc_model_3_auc = cv_results_rfc_model_3['test_roc_auc'].mean()\n",
    "rfc_model_3_f1  = cv_results_rfc_model_3['test_f1'].mean()\n",
    "rfc_model_3_rec = cv_results_rfc_model_3['test_recall'].mean()\n",
    "\n",
    "print('\\t\\tModel Training Evaluation (Cross-Validation) Results for rfc_model_X_3: ')\n",
    "print('\\n\\t\\t\\tbac: {} \\n\\t\\t\\tauc: {}  \\n\\t\\t\\tf1: {}    \\n\\t\\t\\trec: {}'\n",
    "          .format(rfc_model_3_bac, rfc_model_3_auc,rfc_model_3_f1,rfc_model_3_rec))\n",
    "\n",
    "model_names.append('rfc_model_X_3')\n",
    "feature_counts.append(train_X2.shape[1])\n",
    "model_bac_scores.append(rfc_model_3_bac)\n",
    "model_auc_scores.append(rfc_model_2_auc)\n",
    "model_f1_scores.append(rfc_model_3_f1)\n",
    "model_rec_scores.append(rfc_model_3_rec)"
   ]
  },
  {
   "cell_type": "code",
   "execution_count": 51,
   "metadata": {},
   "outputs": [
    {
     "data": {
      "text/html": [
       "<div>\n",
       "<style scoped>\n",
       "    .dataframe tbody tr th:only-of-type {\n",
       "        vertical-align: middle;\n",
       "    }\n",
       "\n",
       "    .dataframe tbody tr th {\n",
       "        vertical-align: top;\n",
       "    }\n",
       "\n",
       "    .dataframe thead th {\n",
       "        text-align: right;\n",
       "    }\n",
       "</style>\n",
       "<table border=\"1\" class=\"dataframe\">\n",
       "  <thead>\n",
       "    <tr style=\"text-align: right;\">\n",
       "      <th></th>\n",
       "      <th>model</th>\n",
       "      <th>feature_count</th>\n",
       "      <th>bac</th>\n",
       "      <th>auc</th>\n",
       "      <th>f1</th>\n",
       "      <th>rec</th>\n",
       "    </tr>\n",
       "  </thead>\n",
       "  <tbody>\n",
       "    <tr>\n",
       "      <td>0</td>\n",
       "      <td>rfc_model_X_1</td>\n",
       "      <td>11</td>\n",
       "      <td>0.692120</td>\n",
       "      <td>0.753407</td>\n",
       "      <td>0.857747</td>\n",
       "      <td>0.940784</td>\n",
       "    </tr>\n",
       "    <tr>\n",
       "      <td>1</td>\n",
       "      <td>sdc_model_1</td>\n",
       "      <td>11</td>\n",
       "      <td>0.498531</td>\n",
       "      <td>0.554597</td>\n",
       "      <td>0.317132</td>\n",
       "      <td>0.376415</td>\n",
       "    </tr>\n",
       "    <tr>\n",
       "      <td>2</td>\n",
       "      <td>dtc_model_1</td>\n",
       "      <td>11</td>\n",
       "      <td>0.646764</td>\n",
       "      <td>0.646764</td>\n",
       "      <td>0.777810</td>\n",
       "      <td>0.777199</td>\n",
       "    </tr>\n",
       "    <tr>\n",
       "      <td>3</td>\n",
       "      <td>nbc_model_1</td>\n",
       "      <td>11</td>\n",
       "      <td>0.682428</td>\n",
       "      <td>0.718704</td>\n",
       "      <td>0.828334</td>\n",
       "      <td>0.869580</td>\n",
       "    </tr>\n",
       "    <tr>\n",
       "      <td>4</td>\n",
       "      <td>lrc_model_1</td>\n",
       "      <td>11</td>\n",
       "      <td>0.522542</td>\n",
       "      <td>0.548704</td>\n",
       "      <td>0.579153</td>\n",
       "      <td>0.492857</td>\n",
       "    </tr>\n",
       "    <tr>\n",
       "      <td>5</td>\n",
       "      <td>knn_model_1</td>\n",
       "      <td>11</td>\n",
       "      <td>0.536167</td>\n",
       "      <td>0.563015</td>\n",
       "      <td>0.782759</td>\n",
       "      <td>0.879216</td>\n",
       "    </tr>\n",
       "    <tr>\n",
       "      <td>6</td>\n",
       "      <td>rfc_model_X_2</td>\n",
       "      <td>7</td>\n",
       "      <td>0.697783</td>\n",
       "      <td>0.766571</td>\n",
       "      <td>0.854885</td>\n",
       "      <td>0.926471</td>\n",
       "    </tr>\n",
       "    <tr>\n",
       "      <td>7</td>\n",
       "      <td>rfc_model_X_3</td>\n",
       "      <td>7</td>\n",
       "      <td>0.698607</td>\n",
       "      <td>0.766571</td>\n",
       "      <td>0.859304</td>\n",
       "      <td>0.938375</td>\n",
       "    </tr>\n",
       "  </tbody>\n",
       "</table>\n",
       "</div>"
      ],
      "text/plain": [
       "           model  feature_count       bac       auc        f1       rec\n",
       "0  rfc_model_X_1             11  0.692120  0.753407  0.857747  0.940784\n",
       "1    sdc_model_1             11  0.498531  0.554597  0.317132  0.376415\n",
       "2    dtc_model_1             11  0.646764  0.646764  0.777810  0.777199\n",
       "3    nbc_model_1             11  0.682428  0.718704  0.828334  0.869580\n",
       "4    lrc_model_1             11  0.522542  0.548704  0.579153  0.492857\n",
       "5    knn_model_1             11  0.536167  0.563015  0.782759  0.879216\n",
       "6  rfc_model_X_2              7  0.697783  0.766571  0.854885  0.926471\n",
       "7  rfc_model_X_3              7  0.698607  0.766571  0.859304  0.938375"
      ]
     },
     "execution_count": 51,
     "metadata": {},
     "output_type": "execute_result"
    }
   ],
   "source": [
    "df_model_eval = pd.DataFrame({'model': model_names, 'feature_count': feature_counts, \n",
    "                              'bac': model_bac_scores,'auc': model_auc_scores,\n",
    "                              'f1' :model_f1_scores,'rec':model_rec_scores})\n",
    "\n",
    "df_model_eval"
   ]
  },
  {
   "cell_type": "markdown",
   "metadata": {},
   "source": [
    "# Based on above experiments, we shall select    rfc_model_X_3    for prediction"
   ]
  },
  {
   "cell_type": "code",
   "execution_count": 52,
   "metadata": {},
   "outputs": [
    {
     "data": {
      "text/plain": [
       "RandomForestClassifier(bootstrap=True, class_weight='balanced',\n",
       "                       criterion='gini', max_depth=None, max_features='sqrt',\n",
       "                       max_leaf_nodes=None, min_impurity_decrease=0.0,\n",
       "                       min_impurity_split=None, min_samples_leaf=1,\n",
       "                       min_samples_split=2, min_weight_fraction_leaf=0.0,\n",
       "                       n_estimators=200, n_jobs=None, oob_score=False,\n",
       "                       random_state=0, verbose=0, warm_start=False)"
      ]
     },
     "execution_count": 52,
     "metadata": {},
     "output_type": "execute_result"
    }
   ],
   "source": [
    "rfc_model_3.fit(train_X2, y)"
   ]
  },
  {
   "cell_type": "code",
   "execution_count": 56,
   "metadata": {},
   "outputs": [
    {
     "data": {
      "text/plain": [
       "numpy.ndarray"
      ]
     },
     "metadata": {},
     "output_type": "display_data"
    },
    {
     "data": {
      "text/plain": [
       "array([1, 1, 1, 1, 0, 1, 1, 0, 1, 1, 1, 1, 1, 0, 1, 1, 1, 1, 1, 1, 1, 1,\n",
       "       1, 1, 1, 0, 1, 1, 1, 1, 1, 1, 1, 1, 1, 0, 1, 1, 1, 1, 1, 1, 1, 0,\n",
       "       1, 1, 1, 1, 1, 1, 1, 1, 1, 1, 1, 0, 1, 1, 0, 1, 1, 1, 1, 0, 1, 1,\n",
       "       0, 0, 1, 0, 1, 1, 1, 1, 1, 1, 1, 1, 1, 1, 0, 1, 0, 1, 0, 1, 1, 1,\n",
       "       1, 0, 1, 1, 0, 1, 0, 1, 1, 1, 1, 1, 1, 0, 1, 1, 1, 1, 0, 1, 1, 1,\n",
       "       1, 1, 1, 1, 1, 1, 0, 0, 0, 0, 1, 0, 1, 0, 0, 1, 0, 1, 0, 1, 1, 0,\n",
       "       1, 1, 1, 1, 1, 0, 1, 1, 0, 1, 0, 1, 1, 1, 1, 0, 1, 1, 1, 1, 1, 0,\n",
       "       1, 1, 1, 1, 1, 1, 1, 0, 1, 1, 1, 0, 0, 1, 0, 1, 1, 0, 1, 0, 0, 1,\n",
       "       1, 1, 1, 1, 1, 1, 1, 1, 1, 1, 1, 1, 1, 1, 1, 1, 0, 0, 1, 1, 0, 1,\n",
       "       0, 1, 1, 1, 1, 1, 1, 1, 1, 1, 1, 1, 0, 0, 1, 1, 1, 1, 1, 1, 1, 1,\n",
       "       1, 1, 1, 1, 0, 1, 1, 1, 1, 0, 0, 1, 1, 1, 1, 0, 0, 1, 1, 1, 1, 0,\n",
       "       1, 0, 1, 0, 1, 1, 1, 1, 0, 0, 1, 1, 1, 0, 1, 1, 1, 1, 1, 1, 1, 1,\n",
       "       0, 1, 0, 1, 0, 1, 1, 1, 1, 0, 0, 1, 1, 1, 0, 0, 1, 1, 1, 1, 1, 1,\n",
       "       1, 1, 1, 1, 1, 1, 1, 0, 1, 1, 1, 1, 1, 1, 1, 0, 1, 1, 1, 0, 1, 1,\n",
       "       1, 1, 1, 0, 1, 1, 1, 1, 1, 0, 1, 1, 0, 1, 1, 1, 1, 0, 1, 1, 1, 1,\n",
       "       1, 1, 1, 0, 1, 0, 1, 1, 1, 0, 1, 1, 0, 1, 1, 1, 0, 1, 1, 1, 1, 1,\n",
       "       1, 1, 0, 1, 1, 1, 1, 1, 1, 1, 1, 1, 1, 1, 1], dtype=int8)"
      ]
     },
     "execution_count": 56,
     "metadata": {},
     "output_type": "execute_result"
    }
   ],
   "source": [
    "y_hat = rfc_model_3.predict(test_X2)\n",
    "display(type(y_hat))\n",
    "y_hat"
   ]
  },
  {
   "cell_type": "code",
   "execution_count": 63,
   "metadata": {},
   "outputs": [],
   "source": [
    "y_hat1 = y_hat.copy()"
   ]
  },
  {
   "cell_type": "code",
   "execution_count": 73,
   "metadata": {},
   "outputs": [
    {
     "data": {
      "text/html": [
       "<div>\n",
       "<style scoped>\n",
       "    .dataframe tbody tr th:only-of-type {\n",
       "        vertical-align: middle;\n",
       "    }\n",
       "\n",
       "    .dataframe tbody tr th {\n",
       "        vertical-align: top;\n",
       "    }\n",
       "\n",
       "    .dataframe thead th {\n",
       "        text-align: right;\n",
       "    }\n",
       "</style>\n",
       "<table border=\"1\" class=\"dataframe\">\n",
       "  <thead>\n",
       "    <tr style=\"text-align: right;\">\n",
       "      <th></th>\n",
       "      <th>0</th>\n",
       "    </tr>\n",
       "  </thead>\n",
       "  <tbody>\n",
       "    <tr>\n",
       "      <td>0</td>\n",
       "      <td>Y</td>\n",
       "    </tr>\n",
       "    <tr>\n",
       "      <td>1</td>\n",
       "      <td>Y</td>\n",
       "    </tr>\n",
       "    <tr>\n",
       "      <td>2</td>\n",
       "      <td>Y</td>\n",
       "    </tr>\n",
       "    <tr>\n",
       "      <td>3</td>\n",
       "      <td>Y</td>\n",
       "    </tr>\n",
       "    <tr>\n",
       "      <td>4</td>\n",
       "      <td>N</td>\n",
       "    </tr>\n",
       "    <tr>\n",
       "      <td>...</td>\n",
       "      <td>...</td>\n",
       "    </tr>\n",
       "    <tr>\n",
       "      <td>362</td>\n",
       "      <td>Y</td>\n",
       "    </tr>\n",
       "    <tr>\n",
       "      <td>363</td>\n",
       "      <td>Y</td>\n",
       "    </tr>\n",
       "    <tr>\n",
       "      <td>364</td>\n",
       "      <td>Y</td>\n",
       "    </tr>\n",
       "    <tr>\n",
       "      <td>365</td>\n",
       "      <td>Y</td>\n",
       "    </tr>\n",
       "    <tr>\n",
       "      <td>366</td>\n",
       "      <td>Y</td>\n",
       "    </tr>\n",
       "  </tbody>\n",
       "</table>\n",
       "<p>367 rows × 1 columns</p>\n",
       "</div>"
      ],
      "text/plain": [
       "     0\n",
       "0    Y\n",
       "1    Y\n",
       "2    Y\n",
       "3    Y\n",
       "4    N\n",
       "..  ..\n",
       "362  Y\n",
       "363  Y\n",
       "364  Y\n",
       "365  Y\n",
       "366  Y\n",
       "\n",
       "[367 rows x 1 columns]"
      ]
     },
     "execution_count": 73,
     "metadata": {},
     "output_type": "execute_result"
    }
   ],
   "source": [
    "y_hat_data = pd.DataFrame(y_hat)\n",
    "y_hat_data = y_hat_data.replace(0,'N')\n",
    "y_hat_data = y_hat_data.replace(1,'Y')\n",
    "y_hat_data"
   ]
  },
  {
   "cell_type": "code",
   "execution_count": 74,
   "metadata": {},
   "outputs": [
    {
     "name": "stdout",
     "output_type": "stream",
     "text": [
      "Test data shape : (367, 7)\n",
      "Predicted(rfc_model_3)model data shape : (367, 1)\n"
     ]
    }
   ],
   "source": [
    "print('Test data shape : {}'.format(df_test_features.shape))\n",
    "print('Predicted(rfc_model_3)model data shape : {}'.format(y_hat_data.shape))"
   ]
  },
  {
   "cell_type": "code",
   "execution_count": 75,
   "metadata": {},
   "outputs": [
    {
     "name": "stdout",
     "output_type": "stream",
     "text": [
      "(367, 2)\n",
      "      Loan_ID Loan_Status\n",
      "0    LP001015           N\n",
      "1    LP001022           N\n",
      "2    LP001031           N\n",
      "3    LP001035           N\n",
      "4    LP001051           N\n",
      "..        ...         ...\n",
      "362  LP002971           N\n",
      "363  LP002975           N\n",
      "364  LP002980           N\n",
      "365  LP002986           N\n",
      "366  LP002989           N\n",
      "\n",
      "[367 rows x 2 columns]\n"
     ]
    }
   ],
   "source": [
    "submission_file = 'sample_submission_49d68Cx.csv' \n",
    "df_submission_1 =pd.read_csv(submission_file)\n",
    "print(df_submission_1.shape)\n",
    "print(df_submission_1)"
   ]
  },
  {
   "cell_type": "code",
   "execution_count": 76,
   "metadata": {},
   "outputs": [],
   "source": [
    "df_submission_1['Loan_Status'] = y_hat_data"
   ]
  },
  {
   "cell_type": "code",
   "execution_count": 77,
   "metadata": {},
   "outputs": [
    {
     "data": {
      "text/html": [
       "<div>\n",
       "<style scoped>\n",
       "    .dataframe tbody tr th:only-of-type {\n",
       "        vertical-align: middle;\n",
       "    }\n",
       "\n",
       "    .dataframe tbody tr th {\n",
       "        vertical-align: top;\n",
       "    }\n",
       "\n",
       "    .dataframe thead th {\n",
       "        text-align: right;\n",
       "    }\n",
       "</style>\n",
       "<table border=\"1\" class=\"dataframe\">\n",
       "  <thead>\n",
       "    <tr style=\"text-align: right;\">\n",
       "      <th></th>\n",
       "      <th>Loan_ID</th>\n",
       "      <th>Loan_Status</th>\n",
       "    </tr>\n",
       "  </thead>\n",
       "  <tbody>\n",
       "    <tr>\n",
       "      <td>0</td>\n",
       "      <td>LP001015</td>\n",
       "      <td>Y</td>\n",
       "    </tr>\n",
       "    <tr>\n",
       "      <td>1</td>\n",
       "      <td>LP001022</td>\n",
       "      <td>Y</td>\n",
       "    </tr>\n",
       "    <tr>\n",
       "      <td>2</td>\n",
       "      <td>LP001031</td>\n",
       "      <td>Y</td>\n",
       "    </tr>\n",
       "    <tr>\n",
       "      <td>3</td>\n",
       "      <td>LP001035</td>\n",
       "      <td>Y</td>\n",
       "    </tr>\n",
       "    <tr>\n",
       "      <td>4</td>\n",
       "      <td>LP001051</td>\n",
       "      <td>N</td>\n",
       "    </tr>\n",
       "    <tr>\n",
       "      <td>...</td>\n",
       "      <td>...</td>\n",
       "      <td>...</td>\n",
       "    </tr>\n",
       "    <tr>\n",
       "      <td>362</td>\n",
       "      <td>LP002971</td>\n",
       "      <td>Y</td>\n",
       "    </tr>\n",
       "    <tr>\n",
       "      <td>363</td>\n",
       "      <td>LP002975</td>\n",
       "      <td>Y</td>\n",
       "    </tr>\n",
       "    <tr>\n",
       "      <td>364</td>\n",
       "      <td>LP002980</td>\n",
       "      <td>Y</td>\n",
       "    </tr>\n",
       "    <tr>\n",
       "      <td>365</td>\n",
       "      <td>LP002986</td>\n",
       "      <td>Y</td>\n",
       "    </tr>\n",
       "    <tr>\n",
       "      <td>366</td>\n",
       "      <td>LP002989</td>\n",
       "      <td>Y</td>\n",
       "    </tr>\n",
       "  </tbody>\n",
       "</table>\n",
       "<p>367 rows × 2 columns</p>\n",
       "</div>"
      ],
      "text/plain": [
       "      Loan_ID Loan_Status\n",
       "0    LP001015           Y\n",
       "1    LP001022           Y\n",
       "2    LP001031           Y\n",
       "3    LP001035           Y\n",
       "4    LP001051           N\n",
       "..        ...         ...\n",
       "362  LP002971           Y\n",
       "363  LP002975           Y\n",
       "364  LP002980           Y\n",
       "365  LP002986           Y\n",
       "366  LP002989           Y\n",
       "\n",
       "[367 rows x 2 columns]"
      ]
     },
     "execution_count": 77,
     "metadata": {},
     "output_type": "execute_result"
    }
   ],
   "source": [
    "df_submission_1"
   ]
  },
  {
   "cell_type": "code",
   "execution_count": 79,
   "metadata": {},
   "outputs": [
    {
     "data": {
      "text/plain": [
       "Y    288\n",
       "N     79\n",
       "Name: Loan_Status, dtype: int64"
      ]
     },
     "execution_count": 79,
     "metadata": {},
     "output_type": "execute_result"
    }
   ],
   "source": [
    "df_submission_1.Loan_Status.value_counts()"
   ]
  },
  {
   "cell_type": "code",
   "execution_count": 81,
   "metadata": {},
   "outputs": [
    {
     "data": {
      "text/html": [
       "<div>\n",
       "<style scoped>\n",
       "    .dataframe tbody tr th:only-of-type {\n",
       "        vertical-align: middle;\n",
       "    }\n",
       "\n",
       "    .dataframe tbody tr th {\n",
       "        vertical-align: top;\n",
       "    }\n",
       "\n",
       "    .dataframe thead th {\n",
       "        text-align: right;\n",
       "    }\n",
       "</style>\n",
       "<table border=\"1\" class=\"dataframe\">\n",
       "  <thead>\n",
       "    <tr style=\"text-align: right;\">\n",
       "      <th></th>\n",
       "      <th>Loan_ID</th>\n",
       "      <th>Loan_Status</th>\n",
       "    </tr>\n",
       "  </thead>\n",
       "  <tbody>\n",
       "    <tr>\n",
       "      <td>0</td>\n",
       "      <td>LP001015</td>\n",
       "      <td>Y</td>\n",
       "    </tr>\n",
       "    <tr>\n",
       "      <td>1</td>\n",
       "      <td>LP001022</td>\n",
       "      <td>Y</td>\n",
       "    </tr>\n",
       "    <tr>\n",
       "      <td>2</td>\n",
       "      <td>LP001031</td>\n",
       "      <td>Y</td>\n",
       "    </tr>\n",
       "    <tr>\n",
       "      <td>3</td>\n",
       "      <td>LP001035</td>\n",
       "      <td>Y</td>\n",
       "    </tr>\n",
       "    <tr>\n",
       "      <td>4</td>\n",
       "      <td>LP001051</td>\n",
       "      <td>N</td>\n",
       "    </tr>\n",
       "  </tbody>\n",
       "</table>\n",
       "</div>"
      ],
      "text/plain": [
       "    Loan_ID Loan_Status\n",
       "0  LP001015           Y\n",
       "1  LP001022           Y\n",
       "2  LP001031           Y\n",
       "3  LP001035           Y\n",
       "4  LP001051           N"
      ]
     },
     "execution_count": 81,
     "metadata": {},
     "output_type": "execute_result"
    }
   ],
   "source": [
    "df_submission = df_submission_1\n",
    "df_submission.to_csv('sample_submission_49d68Cx.csv', index=False)\n",
    "df_submission.head()"
   ]
  },
  {
   "cell_type": "code",
   "execution_count": 82,
   "metadata": {},
   "outputs": [
    {
     "data": {
      "text/plain": [
       "Y    288\n",
       "N     79\n",
       "Name: Loan_Status, dtype: int64"
      ]
     },
     "execution_count": 82,
     "metadata": {},
     "output_type": "execute_result"
    }
   ],
   "source": [
    "df_submission.Loan_Status.value_counts()"
   ]
  },
  {
   "cell_type": "code",
   "execution_count": null,
   "metadata": {},
   "outputs": [],
   "source": []
  }
 ],
 "metadata": {
  "kernelspec": {
   "display_name": "Python 3",
   "language": "python",
   "name": "python3"
  },
  "language_info": {
   "codemirror_mode": {
    "name": "ipython",
    "version": 3
   },
   "file_extension": ".py",
   "mimetype": "text/x-python",
   "name": "python",
   "nbconvert_exporter": "python",
   "pygments_lexer": "ipython3",
   "version": "3.7.4"
  }
 },
 "nbformat": 4,
 "nbformat_minor": 2
}
